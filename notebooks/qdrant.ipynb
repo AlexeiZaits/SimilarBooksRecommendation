{
 "cells": [
  {
   "cell_type": "code",
   "execution_count": 1,
   "metadata": {},
   "outputs": [
    {
     "name": "stderr",
     "output_type": "stream",
     "text": [
      "c:\\Users\\S\\PycharmProjects\\SimilarBooksRecommendation\\venv\\Lib\\site-packages\\sentence_transformers\\cross_encoder\\CrossEncoder.py:11: TqdmExperimentalWarning: Using `tqdm.autonotebook.tqdm` in notebook mode. Use `tqdm.tqdm` instead to force console mode (e.g. in jupyter console)\n",
      "  from tqdm.autonotebook import tqdm, trange\n"
     ]
    }
   ],
   "source": [
    "import os\n",
    "import uuid\n",
    "\n",
    "import pandas as pd\n",
    "from dotenv import load_dotenv\n",
    "from qdrant_client import QdrantClient\n",
    "from qdrant_client.models import Distance, PointStruct, VectorParams\n",
    "from sentence_transformers import SentenceTransformer\n",
    "\n",
    "load_dotenv()\n",
    "\n",
    "%load_ext autoreload\n",
    "%autoreload 2"
   ]
  },
  {
   "cell_type": "markdown",
   "metadata": {},
   "source": [
    "# Загрузка датасета"
   ]
  },
  {
   "cell_type": "code",
   "execution_count": 2,
   "metadata": {},
   "outputs": [],
   "source": [
    "df_1 = pd.read_csv(os.path.join(os.getcwd(), \"data\", \"комиксы.csv\"), on_bad_lines=\"skip\").dropna()\n",
    "df_2 = pd.read_csv(os.path.join(os.getcwd(), \"data\", \"средневековье.csv\"), on_bad_lines=\"skip\").dropna()\n",
    "df_3 = pd.read_csv(os.path.join(os.getcwd(), \"data\", \"художественная.csv\"), on_bad_lines=\"skip\").dropna()\n",
    "\n",
    "df = pd.concat([df_1, df_2, df_3], axis=0).drop_duplicates(subset=[\"Title\", \"Author\"]).drop_duplicates(subset=[\"Title\"])\n",
    "df = df[df[\"Description\"].apply(len) >= 100]\n",
    "\n",
    "df[\"ID\"] = [uuid.uuid5(uuid.NAMESPACE_DNS, title).hex for title in df[\"Title\"]]\n",
    "# df['Title'] = df['Title'].apply(lambda x: x.lower().capitalize())"
   ]
  },
  {
   "cell_type": "code",
   "execution_count": 3,
   "metadata": {},
   "outputs": [
    {
     "name": "stdout",
     "output_type": "stream",
     "text": [
      "(16149, 8)\n"
     ]
    },
    {
     "data": {
      "text/html": [
       "<div>\n",
       "<style scoped>\n",
       "    .dataframe tbody tr th:only-of-type {\n",
       "        vertical-align: middle;\n",
       "    }\n",
       "\n",
       "    .dataframe tbody tr th {\n",
       "        vertical-align: top;\n",
       "    }\n",
       "\n",
       "    .dataframe thead th {\n",
       "        text-align: right;\n",
       "    }\n",
       "</style>\n",
       "<table border=\"1\" class=\"dataframe\">\n",
       "  <thead>\n",
       "    <tr style=\"text-align: right;\">\n",
       "      <th></th>\n",
       "      <th>Title</th>\n",
       "      <th>Author</th>\n",
       "      <th>Link</th>\n",
       "      <th>Image</th>\n",
       "      <th>Category</th>\n",
       "      <th>Description</th>\n",
       "      <th>Info</th>\n",
       "      <th>ID</th>\n",
       "    </tr>\n",
       "  </thead>\n",
       "  <tbody>\n",
       "    <tr>\n",
       "      <th>0</th>\n",
       "      <td>Истории книжных магазинов</td>\n",
       "      <td>Ивашкина М.</td>\n",
       "      <td>https://www.podpisnie.ru/books/istorii-knizhny...</td>\n",
       "      <td>/upload/resize_cache/iblock/cfe/160_230_1/8vg4...</td>\n",
       "      <td>Графические романы / Комиксы</td>\n",
       "      <td>Книжный магазин — место где книга и человек на...</td>\n",
       "      <td>Автор Ивашкина М. Издательство Миля Год издани...</td>\n",
       "      <td>e26498c9c4a75252a18a1c677b6d3ae9</td>\n",
       "    </tr>\n",
       "    <tr>\n",
       "      <th>1</th>\n",
       "      <td>Полуночники</td>\n",
       "      <td>Эвенс Б.</td>\n",
       "      <td>https://www.podpisnie.ru/books/polunochniki/</td>\n",
       "      <td>/upload/resize_cache/iblock/a5b/160_230_1/tj5v...</td>\n",
       "      <td>Графические романы / Комиксы</td>\n",
       "      <td>Одна ночь. Три незнакомца. Три совершенно разн...</td>\n",
       "      <td>Автор Эвенс Б. Издательство Бумкнига Год издан...</td>\n",
       "      <td>2d4a036599e959a0a9e76e32a2075200</td>\n",
       "    </tr>\n",
       "    <tr>\n",
       "      <th>2</th>\n",
       "      <td>Госпожа Кагуя: В любви как на войне.  Любовная...</td>\n",
       "      <td>Акасака А.</td>\n",
       "      <td>https://www.podpisnie.ru/books/gospozha-kaguya...</td>\n",
       "      <td>/upload/resize_cache/iblock/7fd/160_230_1/uqfn...</td>\n",
       "      <td>Графические романы / Комиксы</td>\n",
       "      <td>Завещание Ганъана Синомии уничтожено и Кагуя в...</td>\n",
       "      <td>Автор Акасака А. Издательство Азбука Год издан...</td>\n",
       "      <td>9ac06e3bafd25975bbf6fb9083e18567</td>\n",
       "    </tr>\n",
       "    <tr>\n",
       "      <th>3</th>\n",
       "      <td>Люди,  которые легко становятся счастливыми.  ...</td>\n",
       "      <td>Дэнсинг С.</td>\n",
       "      <td>https://www.podpisnie.ru/books/lyudi-kotorye-l...</td>\n",
       "      <td>/upload/resize_cache/iblock/929/160_230_1/y4yj...</td>\n",
       "      <td>Графические романы / Комиксы</td>\n",
       "      <td>Привычная рутина отбирает краски жизни а о «ма...</td>\n",
       "      <td>Автор Дэнсинг С. Издательство КоЛибри Год изда...</td>\n",
       "      <td>ca68d65336425ee49bb1e563fb832e1f</td>\n",
       "    </tr>\n",
       "    <tr>\n",
       "      <th>4</th>\n",
       "      <td>Моя геройская академия.  Кн.  19.  Те,  кто об...</td>\n",
       "      <td>Хорикоси К.</td>\n",
       "      <td>https://www.podpisnie.ru/books/moya-geroyskaya...</td>\n",
       "      <td>/upload/resize_cache/iblock/f6d/160_230_1/7hh3...</td>\n",
       "      <td>Графические романы / Комиксы</td>\n",
       "      <td>Решающее сражение за судьбу мира в самом разга...</td>\n",
       "      <td>Автор Хорикоси К. Издательство Азбука Год изда...</td>\n",
       "      <td>2cb378c590605ddb8c4cf85b8ee1518f</td>\n",
       "    </tr>\n",
       "  </tbody>\n",
       "</table>\n",
       "</div>"
      ],
      "text/plain": [
       "                                               Title       Author  \\\n",
       "0                          Истории книжных магазинов  Ивашкина М.   \n",
       "1                                        Полуночники     Эвенс Б.   \n",
       "2  Госпожа Кагуя: В любви как на войне.  Любовная...   Акасака А.   \n",
       "3  Люди,  которые легко становятся счастливыми.  ...   Дэнсинг С.   \n",
       "4  Моя геройская академия.  Кн.  19.  Те,  кто об...  Хорикоси К.   \n",
       "\n",
       "                                                Link  \\\n",
       "0  https://www.podpisnie.ru/books/istorii-knizhny...   \n",
       "1       https://www.podpisnie.ru/books/polunochniki/   \n",
       "2  https://www.podpisnie.ru/books/gospozha-kaguya...   \n",
       "3  https://www.podpisnie.ru/books/lyudi-kotorye-l...   \n",
       "4  https://www.podpisnie.ru/books/moya-geroyskaya...   \n",
       "\n",
       "                                               Image  \\\n",
       "0  /upload/resize_cache/iblock/cfe/160_230_1/8vg4...   \n",
       "1  /upload/resize_cache/iblock/a5b/160_230_1/tj5v...   \n",
       "2  /upload/resize_cache/iblock/7fd/160_230_1/uqfn...   \n",
       "3  /upload/resize_cache/iblock/929/160_230_1/y4yj...   \n",
       "4  /upload/resize_cache/iblock/f6d/160_230_1/7hh3...   \n",
       "\n",
       "                       Category  \\\n",
       "0  Графические романы / Комиксы   \n",
       "1  Графические романы / Комиксы   \n",
       "2  Графические романы / Комиксы   \n",
       "3  Графические романы / Комиксы   \n",
       "4  Графические романы / Комиксы   \n",
       "\n",
       "                                         Description  \\\n",
       "0  Книжный магазин — место где книга и человек на...   \n",
       "1  Одна ночь. Три незнакомца. Три совершенно разн...   \n",
       "2  Завещание Ганъана Синомии уничтожено и Кагуя в...   \n",
       "3  Привычная рутина отбирает краски жизни а о «ма...   \n",
       "4  Решающее сражение за судьбу мира в самом разга...   \n",
       "\n",
       "                                                Info  \\\n",
       "0  Автор Ивашкина М. Издательство Миля Год издани...   \n",
       "1  Автор Эвенс Б. Издательство Бумкнига Год издан...   \n",
       "2  Автор Акасака А. Издательство Азбука Год издан...   \n",
       "3  Автор Дэнсинг С. Издательство КоЛибри Год изда...   \n",
       "4  Автор Хорикоси К. Издательство Азбука Год изда...   \n",
       "\n",
       "                                 ID  \n",
       "0  e26498c9c4a75252a18a1c677b6d3ae9  \n",
       "1  2d4a036599e959a0a9e76e32a2075200  \n",
       "2  9ac06e3bafd25975bbf6fb9083e18567  \n",
       "3  ca68d65336425ee49bb1e563fb832e1f  \n",
       "4  2cb378c590605ddb8c4cf85b8ee1518f  "
      ]
     },
     "metadata": {},
     "output_type": "display_data"
    }
   ],
   "source": [
    "print(df.shape)\n",
    "display(df.head())"
   ]
  },
  {
   "cell_type": "code",
   "execution_count": 4,
   "metadata": {},
   "outputs": [],
   "source": [
    "# import joblib\n",
    "# hash_map = {uid: title for uid, title in zip(df[\"ID\"], df[\"Title\"])}\n",
    "# joblib.dump(hash_map, os.path.join(os.getcwd(), \"backend\", \"config\", \"title_id_hash_map.pkl\"))"
   ]
  },
  {
   "cell_type": "markdown",
   "metadata": {},
   "source": [
    "# Загрузка моделей и подключений"
   ]
  },
  {
   "cell_type": "code",
   "execution_count": 4,
   "metadata": {},
   "outputs": [],
   "source": [
    "embedder = SentenceTransformer(os.getenv(\"QDRANT_EMBEDDER\"))\n",
    "qdrant = QdrantClient(url=os.getenv(\"QDRANT_URL\"), api_key=os.getenv(\"QDRANT_API_KEY\"))"
   ]
  },
  {
   "cell_type": "markdown",
   "metadata": {},
   "source": [
    "# Пересоздать коллекцию Qdrant"
   ]
  },
  {
   "cell_type": "code",
   "execution_count": null,
   "metadata": {},
   "outputs": [],
   "source": [
    "# vectors = embedder.encode(df[\"Description\"].values, batch_size=1, normalize_embeddings=True, show_progress_bar=True)"
   ]
  },
  {
   "cell_type": "code",
   "execution_count": null,
   "metadata": {},
   "outputs": [],
   "source": [
    "# qdrant.recreate_collection(\n",
    "#     collection_name=os.getenv(\"QDRANT_COLLECTION_NAME\"),\n",
    "#     vectors_config=VectorParams(size=312, distance=Distance.COSINE),\n",
    "# )"
   ]
  },
  {
   "cell_type": "code",
   "execution_count": null,
   "metadata": {},
   "outputs": [],
   "source": [
    "# from tqdm import tqdm\n",
    "\n",
    "# # Параметры для пакетной обработки\n",
    "# batch_size = 300  # Размер пакета, можно настроить по мере необходимости\n",
    "# points = []\n",
    "\n",
    "# # Обрабатываем данные по пакетам\n",
    "# for uid, category, author, title, image_link, vector in tqdm(\n",
    "#     zip(df[\"ID\"], df[\"Category\"], df[\"Author\"], df[\"Title\"], df[\"Image\"], vectors)\n",
    "# ):\n",
    "#     points.append(\n",
    "#         PointStruct(\n",
    "#             id=uid,\n",
    "#             payload={\n",
    "#                 \"category\": category,\n",
    "#                 \"author\": author,\n",
    "#                 \"title\": title,\n",
    "#                 \"image_link\": image_link,\n",
    "#             },\n",
    "#             vector=vector,\n",
    "#         )\n",
    "#     )\n",
    "\n",
    "#     # Если пакет набран, отправляем его в Qdrant\n",
    "#     if len(points) >= batch_size:\n",
    "#         qdrant.upsert(collection_name=os.getenv(\"QDRANT_COLLECTION_NAME\"), points=points)\n",
    "#         points = []  # Очищаем список для следующего пакета\n",
    "\n",
    "# # Отправляем оставшиеся точки, если они есть\n",
    "# if points:\n",
    "#     qdrant.upsert(collection_name=os.getenv(\"QDRANT_COLLECTION_NAME\"), points=points)"
   ]
  },
  {
   "cell_type": "markdown",
   "metadata": {},
   "source": [
    "# Пример запроса в Qdrant"
   ]
  },
  {
   "cell_type": "code",
   "execution_count": 9,
   "metadata": {},
   "outputs": [],
   "source": [
    "title = \"Токийский гуль: re.  квест\""
   ]
  },
  {
   "cell_type": "code",
   "execution_count": 10,
   "metadata": {},
   "outputs": [],
   "source": [
    "query_vector = embedder.encode(title)\n",
    "n_chunks = 5\n",
    "offset = 0"
   ]
  },
  {
   "cell_type": "code",
   "execution_count": 11,
   "metadata": {},
   "outputs": [
    {
     "data": {
      "text/plain": [
       "[ScoredPoint(id='3c2095f8-91fa-5a8d-92ca-9f30c407831d', version=4, score=0.82746696, payload={'author': 'Исида С.', 'category': 'Графические романы / Комиксы', 'image_link': '/upload/resize_cache/iblock/223/160_230_1/fzhe2zm0u65q5yislcrbrgg78tb6xz6j.jpg', 'title': 'Токийский гуль: re.  Кн.  2'}, vector=None, shard_key=None, order_value=None),\n",
       " ScoredPoint(id='71a2f3d6-abdf-5070-a4fc-abd7c43edde3', version=35, score=0.7933022, payload={'author': 'Чассапакис Д.', 'category': 'Художественная литература', 'image_link': '/upload/resize_cache/iblock/354/160_230_1/fzwhqmn79dsr1r3f4h284o05vzj33xja.jpg', 'title': 'Дневник 29.  Забвение'}, vector=None, shard_key=None, order_value=None),\n",
       " ScoredPoint(id='96a658a4-2d48-5a1a-9725-bc924ff05e12', version=35, score=0.792939, payload={'author': 'Хэйс К.', 'category': 'Художественная литература', 'image_link': '/upload/resize_cache/iblock/2fe/160_230_1/j13fp610kavh72qzvmcqsw4r9zlwiq6u.jpg', 'title': 'Затворники'}, vector=None, shard_key=None, order_value=None),\n",
       " ScoredPoint(id='2c35cc42-2c23-5f7e-a824-2dfa331586ca', version=4, score=0.7908175, payload={'author': 'Исида С. Товада С.', 'category': 'Графические романы / Комиксы', 'image_link': '/upload/resize_cache/iblock/297/160_230_1/98lahjrab27iwy5zxy4f43addb1uk1sv.jpg', 'title': 'Токийский гуль.  Дни'}, vector=None, shard_key=None, order_value=None),\n",
       " ScoredPoint(id='80d94c7a-d22a-56c7-bab4-56005b736a58', version=0, score=0.7888008, payload={'author': 'Исида С. Товада С.', 'category': 'Графические романы / Комиксы', 'image_link': '/upload/resize_cache/iblock/608/160_230_1/lmzcf3sbhnpweo70aoblx4cvvzbzksds.jpg', 'title': 'Токийский гуль: re.  Квест'}, vector=None, shard_key=None, order_value=None)]"
      ]
     },
     "execution_count": 11,
     "metadata": {},
     "output_type": "execute_result"
    }
   ],
   "source": [
    "content = qdrant.search(\n",
    "    collection_name=os.getenv(\"QDRANT_COLLECTION_DESCRIPTION\"), query_vector=query_vector, limit=n_chunks, offset=offset\n",
    ")\n",
    "content"
   ]
  },
  {
   "cell_type": "markdown",
   "metadata": {},
   "source": [
    "# Redis"
   ]
  },
  {
   "cell_type": "code",
   "execution_count": 73,
   "metadata": {},
   "outputs": [
    {
     "name": "stdout",
     "output_type": "stream",
     "text": [
      "Подключение к Redis успешно!\n"
     ]
    }
   ],
   "source": [
    "import os\n",
    "\n",
    "import redis\n",
    "\n",
    "# Подключение к Redis\n",
    "redis_client = redis.StrictRedis(\n",
    "    host=os.getenv(\"REDIS_HOST\"), port=os.getenv(\"REDIS_PORT\"), password=os.getenv(\"RESID_PASSWORD\")\n",
    ")\n",
    "\n",
    "try:\n",
    "    # Проверка подключения к Redis\n",
    "    pong = redis_client.ping()\n",
    "    if pong:\n",
    "        print(\"Подключение к Redis успешно!\")\n",
    "    else:\n",
    "        print(\"Не удалось подключиться к Redis.\")\n",
    "except redis.ConnectionError as e:\n",
    "    print(f\"Ошибка подключения к Redis: {e}\")"
   ]
  },
  {
   "cell_type": "markdown",
   "metadata": {},
   "source": [
    "## Быстрая загрузка данных в redis"
   ]
  },
  {
   "cell_type": "code",
   "execution_count": 78,
   "metadata": {},
   "outputs": [
    {
     "data": {
      "text/plain": [
       "True"
      ]
     },
     "execution_count": 78,
     "metadata": {},
     "output_type": "execute_result"
    }
   ],
   "source": [
    "# Очистка всех данных\n",
    "redis_client.flushall()"
   ]
  },
  {
   "cell_type": "code",
   "execution_count": 79,
   "metadata": {},
   "outputs": [
    {
     "name": "stderr",
     "output_type": "stream",
     "text": [
      "100%|██████████| 17/17 [00:16<00:00,  1.03it/s]\n"
     ]
    }
   ],
   "source": [
    "from tqdm import tqdm\n",
    "\n",
    "# Преобразование данных в список кортежей для удобства использования\n",
    "data = list(zip(df[\"Title\"], df[\"Description\"], df[\"Category\"], df[\"Author\"], df[\"Image\"], df[\"Info\"], df[\"ID\"]))\n",
    "# Определение размера батча\n",
    "batch_size = 1000\n",
    "\n",
    "# Использование пайплайна для записи данных и метаданных\n",
    "for i in tqdm(range(0, len(data), batch_size)):\n",
    "    with redis_client.pipeline() as pipe:\n",
    "        for title, description, category, author, image, info, uid in data[i : i + batch_size]:\n",
    "            # Установка данных\n",
    "            pipe.set(title, description)\n",
    "\n",
    "            # Установка метаданных\n",
    "            metadata_key = f\"{title}:metadata\"\n",
    "            pipe.hset(metadata_key, \"category\", category)\n",
    "            pipe.hset(metadata_key, \"author\", author)\n",
    "            pipe.hset(metadata_key, \"image\", image)\n",
    "            pipe.hset(metadata_key, \"info\", info)\n",
    "            pipe.hset(metadata_key, \"uid\", uid)\n",
    "\n",
    "        # Выполнение всех команд в пайплайне\n",
    "        pipe.execute()"
   ]
  },
  {
   "cell_type": "code",
   "execution_count": 16,
   "metadata": {},
   "outputs": [
    {
     "name": "stdout",
     "output_type": "stream",
     "text": [
      "Number of keys in the database: 32298\n"
     ]
    }
   ],
   "source": [
    "num_keys = redis_client.dbsize()\n",
    "\n",
    "print(f\"Number of keys in the database: {num_keys}\")"
   ]
  },
  {
   "cell_type": "markdown",
   "metadata": {},
   "source": [
    "# Создание коллекции с названиями книги"
   ]
  },
  {
   "cell_type": "code",
   "execution_count": 17,
   "metadata": {},
   "outputs": [
    {
     "name": "stderr",
     "output_type": "stream",
     "text": [
      "C:\\Users\\S\\AppData\\Local\\Temp\\ipykernel_25188\\3831286106.py:1: DeprecationWarning: `recreate_collection` method is deprecated and will be removed in the future. Use `collection_exists` to check collection existence and `create_collection` instead.\n",
      "  qdrant.recreate_collection(\n"
     ]
    },
    {
     "data": {
      "text/plain": [
       "True"
      ]
     },
     "execution_count": 17,
     "metadata": {},
     "output_type": "execute_result"
    }
   ],
   "source": [
    "qdrant.recreate_collection(\n",
    "    collection_name=\"BookTitles\",\n",
    "    vectors_config=VectorParams(size=312, distance=Distance.DOT),\n",
    ")\n",
    "\n",
    "vectors = embedder.encode(df[\"Title\"].values, batch_size=16, normalize_embeddings=True, show_progress_bar=True)\n",
    "\n",
    "from tqdm import tqdm\n",
    "\n",
    "# Параметры для пакетной обработки\n",
    "batch_size = 300  # Размер пакета, можно настроить по мере необходимости\n",
    "points = []\n",
    "\n",
    "# Обрабатываем данные по пакетам\n",
    "for uid, title, vector in tqdm(zip(df[\"ID\"], df[\"Title\"], vectors)):\n",
    "    points.append(\n",
    "        PointStruct(\n",
    "            id=uid,\n",
    "            payload={\n",
    "                \"title\": title,\n",
    "            },\n",
    "            vector=vector,\n",
    "        )\n",
    "    )\n",
    "\n",
    "    # Если пакет набран, отправляем его в Qdrant\n",
    "    if len(points) >= batch_size:\n",
    "        qdrant.upsert(collection_name=\"BookTitles\", points=points)\n",
    "        points = []  # Очищаем список для следующего пакета\n",
    "\n",
    "# Отправляем оставшиеся точки, если они есть\n",
    "if points:\n",
    "    qdrant.upsert(collection_name=\"BookTitles\", points=points)"
   ]
  },
  {
   "cell_type": "markdown",
   "metadata": {},
   "source": [
    "# Запрос с фильтром"
   ]
  },
  {
   "cell_type": "code",
   "execution_count": 9,
   "metadata": {},
   "outputs": [],
   "source": [
    "# from qdrant_client.http import models\n",
    "\n",
    "\n",
    "# def filter_search(query, collection_name, limit=6, offset=0, title_filter=None):\n",
    "#     # Создание векторного запроса\n",
    "#     query_vector = embedder.encode(\n",
    "#         query,\n",
    "#         batch_size=1,\n",
    "#         normalize_embeddings=True,\n",
    "#     )\n",
    "\n",
    "#     # Построение условий фильтрации\n",
    "#     filter_conditions = []\n",
    "#     if title_filter:\n",
    "#         filter_conditions.append(models.FieldCondition(key=\"title\", match=models.MatchValue(value=title_filter)))\n",
    "\n",
    "#     # Выполнение поиска\n",
    "#     results = qdrant.search(\n",
    "#         collection_name=collection_name,\n",
    "#         query_vector=query_vector,\n",
    "#         query_filter=models.Filter(must=filter_conditions) if filter_conditions else None,\n",
    "#         limit=limit,\n",
    "#         offset=offset,\n",
    "#     )\n",
    "\n",
    "#     return results"
   ]
  },
  {
   "cell_type": "code",
   "execution_count": 14,
   "metadata": {},
   "outputs": [
    {
     "name": "stdout",
     "output_type": "stream",
     "text": [
      "Title: Ведьмак, Score: 1.0\n"
     ]
    }
   ],
   "source": [
    "# # Пример запроса\n",
    "# search_results = filter_search(\n",
    "#     query=query,\n",
    "#     collection_name=\"BookTitles\",\n",
    "#     limit=n_chunks,\n",
    "#     # category_filter=category,\n",
    "#     # author_filter=author,\n",
    "#     title_filter=query,\n",
    "# )\n",
    "\n",
    "# for result in search_results:\n",
    "#     print(f\"Title: {result.payload['title']}, Score: {result.score}\")"
   ]
  },
  {
   "cell_type": "markdown",
   "metadata": {},
   "source": [
    "# Автокомплит"
   ]
  },
  {
   "cell_type": "code",
   "execution_count": 24,
   "metadata": {},
   "outputs": [],
   "source": [
    "class TrieNode:\n",
    "    def __init__(self):\n",
    "        self.children = {}\n",
    "        self.is_end_of_word = False\n",
    "\n",
    "\n",
    "class Trie:\n",
    "    def __init__(self):\n",
    "        self.root = TrieNode()\n",
    "\n",
    "    def insert(self, word):\n",
    "        node = self.root\n",
    "        for char in word:\n",
    "            if char not in node.children:\n",
    "                node.children[char] = TrieNode()\n",
    "            node = node.children[char]\n",
    "        node.is_end_of_word = True\n",
    "\n",
    "    def search_prefix(self, prefix):\n",
    "        node = self.root\n",
    "        for char in prefix:\n",
    "            if char not in node.children:\n",
    "                return []\n",
    "            node = node.children[char]\n",
    "        return self._collect_all_words(node, prefix)\n",
    "\n",
    "    def _collect_all_words(self, node, prefix):\n",
    "        words = []\n",
    "        if node.is_end_of_word:\n",
    "            words.append(prefix)\n",
    "        for char, child_node in node.children.items():\n",
    "            words.extend(self._collect_all_words(child_node, prefix + char))\n",
    "        return words\n",
    "\n",
    "\n",
    "# Функция автокомплита\n",
    "def autocomplete_books_trie(prefix, trie, limit=5):\n",
    "    suggestions = trie.search_prefix(prefix)  # .lower()\n",
    "    return suggestions[:limit]\n",
    "\n",
    "\n",
    "# Инициализация Trie и вставка книг\n",
    "trie = Trie()\n",
    "\n",
    "books = df[\"Title\"]\n",
    "\n",
    "for book in books:\n",
    "    trie.insert(book)  # .lower()"
   ]
  },
  {
   "cell_type": "code",
   "execution_count": 25,
   "metadata": {},
   "outputs": [
    {
     "name": "stdout",
     "output_type": "stream",
     "text": [
      "['Токийский гуль: re.  Квест', 'Токийский гуль: re.  Кн.  8', 'Токийский гуль: re.  Кн.  7', 'Токийский гуль: re.  Кн.  2', 'Токийский гуль: re.  Кн.  1', 'Токийский гуль: re.  Книга 6', 'Токийский гуль: re.  Книга 5', 'Токийский гуль: re.  Книга 3', 'Токийский гуль: re.  Книга 4', 'Токийский гуль: zakki: re']\n"
     ]
    }
   ],
   "source": [
    "# Пример использования\n",
    "user_input = \"Токийский\"\n",
    "suggestions = autocomplete_books_trie(user_input, trie, limit=10)\n",
    "print(suggestions)\n",
    "# print(list(map(str.capitalize, suggestions)))"
   ]
  },
  {
   "cell_type": "code",
   "execution_count": 26,
   "metadata": {},
   "outputs": [
    {
     "data": {
      "text/plain": [
       "['c:\\\\Users\\\\S\\\\PycharmProjects\\\\SimilarBooksRecommendation\\\\data\\\\trie.pkl']"
      ]
     },
     "execution_count": 26,
     "metadata": {},
     "output_type": "execute_result"
    }
   ],
   "source": [
    "import joblib\n",
    "\n",
    "joblib.dump(trie, os.path.join(os.getcwd(), \"data\", \"trie.pkl\"))"
   ]
  },
  {
   "cell_type": "code",
   "execution_count": 27,
   "metadata": {},
   "outputs": [
    {
     "name": "stdout",
     "output_type": "stream",
     "text": [
      "['Токийский гуль: re.  Квест', 'Токийский гуль: re.  Кн.  8', 'Токийский гуль: re.  Кн.  7', 'Токийский гуль: re.  Кн.  2', 'Токийский гуль: re.  Кн.  1', 'Токийский гуль: re.  Книга 6', 'Токийский гуль: re.  Книга 5', 'Токийский гуль: re.  Книга 3', 'Токийский гуль: re.  Книга 4', 'Токийский гуль: zakki: re']\n"
     ]
    }
   ],
   "source": [
    "import os\n",
    "\n",
    "import joblib\n",
    "\n",
    "trie = joblib.load(os.path.join(os.getcwd(), \"data\", \"trie.pkl\"))\n",
    "\n",
    "user_input = \"Токийский\"\n",
    "suggestions = autocomplete_books_trie(user_input, trie, limit=10)\n",
    "print(suggestions)\n"
   ]
  },
  {
   "cell_type": "markdown",
   "metadata": {},
   "source": [
    "# PostgreSQL"
   ]
  },
  {
   "cell_type": "code",
   "execution_count": 4,
   "metadata": {},
   "outputs": [],
   "source": [
    "import os\n",
    "\n",
    "import pandas as pd\n",
    "from sqlalchemy import create_engine\n",
    "\n",
    "# Получаем креды из переменных окружения\n",
    "\n",
    "host = os.getenv(\"POSTGRE_HOST\")\n",
    "\n",
    "port = os.getenv(\"POSTGRE_PORT\")\n",
    "\n",
    "user = os.getenv(\"POSTGRE_USER\")\n",
    "\n",
    "password = os.getenv(\"POSTGRE_PASSWORD\")\n",
    "\n",
    "database = os.getenv(\"POSTGRE_DATABASE\")\n",
    "\n",
    "users_table_name = os.getenv(\"POSTGRE_USER_TABLE\")\n",
    "\n",
    "books_table_name = os.getenv(\"POSTGRE_BOOK_TABLE\")\n"
   ]
  },
  {
   "cell_type": "code",
   "execution_count": 5,
   "metadata": {},
   "outputs": [
    {
     "data": {
      "text/html": [
       "<div>\n",
       "<style scoped>\n",
       "    .dataframe tbody tr th:only-of-type {\n",
       "        vertical-align: middle;\n",
       "    }\n",
       "\n",
       "    .dataframe tbody tr th {\n",
       "        vertical-align: top;\n",
       "    }\n",
       "\n",
       "    .dataframe thead th {\n",
       "        text-align: right;\n",
       "    }\n",
       "</style>\n",
       "<table border=\"1\" class=\"dataframe\">\n",
       "  <thead>\n",
       "    <tr style=\"text-align: right;\">\n",
       "      <th></th>\n",
       "      <th>Title</th>\n",
       "      <th>Author</th>\n",
       "      <th>Link</th>\n",
       "      <th>Image</th>\n",
       "      <th>Category</th>\n",
       "      <th>Description</th>\n",
       "      <th>Info</th>\n",
       "      <th>ID</th>\n",
       "    </tr>\n",
       "  </thead>\n",
       "  <tbody>\n",
       "    <tr>\n",
       "      <th>18690</th>\n",
       "      <td>Дитя божье</td>\n",
       "      <td>Маккарти К.</td>\n",
       "      <td>https://www.podpisnie.ru/books/ditya-bozh-e/</td>\n",
       "      <td>/upload/no-image.png</td>\n",
       "      <td>Художественная литература</td>\n",
       "      <td>США самое начало подернутых дымкой ностальгии ...</td>\n",
       "      <td>Автор Маккарти К. Издательство Найди лесоруба ...</td>\n",
       "      <td>a0faa7ca602e50778f6bb6ba9dabe50c</td>\n",
       "    </tr>\n",
       "    <tr>\n",
       "      <th>18691</th>\n",
       "      <td>Говорящая свеча</td>\n",
       "      <td>Бротиган Р.</td>\n",
       "      <td>https://www.podpisnie.ru/books/govoryashchaya-...</td>\n",
       "      <td>/upload/no-image.png</td>\n",
       "      <td>Художественная литература</td>\n",
       "      <td>Ричард Бротиган (1935-1984) — американский про...</td>\n",
       "      <td>Автор Бротиган Р. Издательство Найди лесоруба ...</td>\n",
       "      <td>bcdd85caccfa5646810dfe3bbdc1df2c</td>\n",
       "    </tr>\n",
       "    <tr>\n",
       "      <th>18692</th>\n",
       "      <td>Сад,  где живут кентавры</td>\n",
       "      <td>Гелианов А.</td>\n",
       "      <td>https://www.podpisnie.ru/books/sad-gde-zhivut-...</td>\n",
       "      <td>/upload/no-image.png</td>\n",
       "      <td>Художественная литература</td>\n",
       "      <td>Исчез ли модернизм как жанр к 2024 году? Или с...</td>\n",
       "      <td>Автор Гелианов А. Издательство Найди лесоруба ...</td>\n",
       "      <td>25dee3a018a0547793ce48babc5a4426</td>\n",
       "    </tr>\n",
       "    <tr>\n",
       "      <th>18753</th>\n",
       "      <td>Бабочка во сне: сборник стихотворений</td>\n",
       "      <td>Сонги Л.</td>\n",
       "      <td>https://www.podpisnie.ru/books/babochki-vo-sne...</td>\n",
       "      <td>/upload/no-image.png</td>\n",
       "      <td>Художественная литература</td>\n",
       "      <td>Поэт Лим Сонги родился в 1968 г. в городе Инчх...</td>\n",
       "      <td>Автор Сонги Л. Издательство Гиперион. Год изда...</td>\n",
       "      <td>53434f762cf051e7a0bdefd7b653e3f5</td>\n",
       "    </tr>\n",
       "    <tr>\n",
       "      <th>18952</th>\n",
       "      <td>Чапыгин Т1-5</td>\n",
       "      <td>Чапыгин А. П.</td>\n",
       "      <td>https://www.podpisnie.ru/books/chapygin-t1-5/</td>\n",
       "      <td>/upload/no-image.png</td>\n",
       "      <td>Художественная литература</td>\n",
       "      <td>Алексей Павлович Чапыгин - один из основополож...</td>\n",
       "      <td>Автор Чапыгин А. П. Год издания 2011 Артикул 1...</td>\n",
       "      <td>399f7b1629355ed0ba411276e341d480</td>\n",
       "    </tr>\n",
       "  </tbody>\n",
       "</table>\n",
       "</div>"
      ],
      "text/plain": [
       "                                       Title         Author  \\\n",
       "18690                             Дитя божье    Маккарти К.   \n",
       "18691                        Говорящая свеча    Бротиган Р.   \n",
       "18692               Сад,  где живут кентавры    Гелианов А.   \n",
       "18753  Бабочка во сне: сборник стихотворений       Сонги Л.   \n",
       "18952                           Чапыгин Т1-5  Чапыгин А. П.   \n",
       "\n",
       "                                                    Link  \\\n",
       "18690       https://www.podpisnie.ru/books/ditya-bozh-e/   \n",
       "18691  https://www.podpisnie.ru/books/govoryashchaya-...   \n",
       "18692  https://www.podpisnie.ru/books/sad-gde-zhivut-...   \n",
       "18753  https://www.podpisnie.ru/books/babochki-vo-sne...   \n",
       "18952      https://www.podpisnie.ru/books/chapygin-t1-5/   \n",
       "\n",
       "                      Image                   Category  \\\n",
       "18690  /upload/no-image.png  Художественная литература   \n",
       "18691  /upload/no-image.png  Художественная литература   \n",
       "18692  /upload/no-image.png  Художественная литература   \n",
       "18753  /upload/no-image.png  Художественная литература   \n",
       "18952  /upload/no-image.png  Художественная литература   \n",
       "\n",
       "                                             Description  \\\n",
       "18690  США самое начало подернутых дымкой ностальгии ...   \n",
       "18691  Ричард Бротиган (1935-1984) — американский про...   \n",
       "18692  Исчез ли модернизм как жанр к 2024 году? Или с...   \n",
       "18753  Поэт Лим Сонги родился в 1968 г. в городе Инчх...   \n",
       "18952  Алексей Павлович Чапыгин - один из основополож...   \n",
       "\n",
       "                                                    Info  \\\n",
       "18690  Автор Маккарти К. Издательство Найди лесоруба ...   \n",
       "18691  Автор Бротиган Р. Издательство Найди лесоруба ...   \n",
       "18692  Автор Гелианов А. Издательство Найди лесоруба ...   \n",
       "18753  Автор Сонги Л. Издательство Гиперион. Год изда...   \n",
       "18952  Автор Чапыгин А. П. Год издания 2011 Артикул 1...   \n",
       "\n",
       "                                     ID  \n",
       "18690  a0faa7ca602e50778f6bb6ba9dabe50c  \n",
       "18691  bcdd85caccfa5646810dfe3bbdc1df2c  \n",
       "18692  25dee3a018a0547793ce48babc5a4426  \n",
       "18753  53434f762cf051e7a0bdefd7b653e3f5  \n",
       "18952  399f7b1629355ed0ba411276e341d480  "
      ]
     },
     "execution_count": 5,
     "metadata": {},
     "output_type": "execute_result"
    }
   ],
   "source": [
    "df.tail()"
   ]
  },
  {
   "cell_type": "code",
   "execution_count": 8,
   "metadata": {},
   "outputs": [],
   "source": [
    "# Подключаемся к базе данных через SQLAlchemy\n",
    "engine = create_engine(f\"postgresql+psycopg2://{user}:{password}@{host}:{port}/{database}\")\n",
    "\n",
    "# Создаем таблицу в базе данных из DataFrame\n",
    "df.to_sql(books_table_name, engine, if_exists=\"replace\", index=False)\n",
    "\n",
    "# Закрываем соединение\n",
    "engine.dispose()\n"
   ]
  },
  {
   "cell_type": "code",
   "execution_count": 7,
   "metadata": {},
   "outputs": [
    {
     "ename": "ModuleNotFoundError",
     "evalue": "No module named 'backend.src.schemas.tamplates'",
     "output_type": "error",
     "traceback": [
      "\u001b[1;31m---------------------------------------------------------------------------\u001b[0m",
      "\u001b[1;31mModuleNotFoundError\u001b[0m                       Traceback (most recent call last)",
      "Cell \u001b[1;32mIn[7], line 1\u001b[0m\n\u001b[1;32m----> 1\u001b[0m \u001b[38;5;28;01mfrom\u001b[39;00m \u001b[38;5;21;01mbackend\u001b[39;00m\u001b[38;5;21;01m.\u001b[39;00m\u001b[38;5;21;01msrc\u001b[39;00m\u001b[38;5;21;01m.\u001b[39;00m\u001b[38;5;21;01mschemas\u001b[39;00m\u001b[38;5;21;01m.\u001b[39;00m\u001b[38;5;21;01mtamplates\u001b[39;00m \u001b[38;5;28;01mimport\u001b[39;00m BookInfo, BooksBatchResponse\n\u001b[0;32m      4\u001b[0m \u001b[38;5;28;01mfrom\u001b[39;00m \u001b[38;5;21;01mtyping\u001b[39;00m \u001b[38;5;28;01mimport\u001b[39;00m Optional\n\u001b[0;32m      5\u001b[0m \u001b[38;5;28;01mfrom\u001b[39;00m \u001b[38;5;21;01msqlalchemy\u001b[39;00m\u001b[38;5;21;01m.\u001b[39;00m\u001b[38;5;21;01mengine\u001b[39;00m \u001b[38;5;28;01mimport\u001b[39;00m Engine\n",
      "\u001b[1;31mModuleNotFoundError\u001b[0m: No module named 'backend.src.schemas.tamplates'"
     ]
    }
   ],
   "source": [
    "from backend.src.schemas.tamplates import BookInfo, BooksBatchResponse\n",
    "\n",
    "\n",
    "from typing import Optional\n",
    "from sqlalchemy.engine import Engine\n",
    "import pandas as pd\n",
    "\n",
    "def get_books_batch(engine: Engine, limit: int, offset: int, category_filter: Optional[str] = None) -> BooksBatchResponse:\n",
    "    main_query = \"\"\"\n",
    "    SELECT *\n",
    "    FROM books_table\n",
    "    \"\"\"\n",
    "    filter_query = f\"\"\"WHERE \"Category\" = '{category_filter}'\"\"\" if category_filter else \"\"\n",
    "\n",
    "    limit_query = f\"\"\"LIMIT {limit} OFFSET {offset};\"\"\"\n",
    "    query = main_query + filter_query + limit_query\n",
    "\n",
    "    df = pd.read_sql(query, engine)\n",
    "\n",
    "    # Преобразование DataFrame в список словарей\n",
    "    books_list = df.to_dict(orient='records')\n",
    "\n",
    "    # Создание экземпляров Pydantic классов\n",
    "    books_info_list = [BookInfo(**book) for book in books_list]\n",
    "\n",
    "    # Создание экземпляра BooksBatch\n",
    "    books_batch = BooksBatchResponse(books=books_info_list)\n",
    "\n",
    "    return books_batch\n"
   ]
  },
  {
   "cell_type": "code",
   "execution_count": null,
   "metadata": {},
   "outputs": [],
   "source": [
    "limit = 3\n",
    "offset = 1\n",
    "# category_filter = \"Художественная литература\""
   ]
  },
  {
   "cell_type": "code",
   "execution_count": null,
   "metadata": {},
   "outputs": [
    {
     "data": {
      "text/plain": [
       "BooksBatch(books=[BookInfo(category='Графические романы / Комиксы', author='Эвенс Б.', image='/upload/resize_cache/iblock/a5b/160_230_1/tj5vuz4wqf2q98uzmueav5fjwvabwqj0.jpg', info='Автор Эвенс Б. Издательство Бумкнига Год издания 2023 Переплет Твёрдый Страниц 336 Формат 205х250 мм Язык Русский ISBN 978-5-907305-19-9 Артикул 1135825', uid='2d4a036599e959a0a9e76e32a2075200', description='Одна ночь. Три незнакомца. Три совершенно разных человека вынужденных скрывать своё истинное Я под маской благоразумия. Случайно оказавшись в одном месте в одно время они отчаянно жаждут свободы и развлечений. Под манящими и безжалостными огнями ночного города их истории переплетаются балансируя на грани чудесного сна и невыносимого кошмара. Брехт Эвенс — современный фламандский автор комиксов и иллюстратор которого газета The Guardian назвала одним из самых талантливых представителей бельгийской школы иллюстрации со времён Эрже автора комиксов про Тинтина. За графический роман «Полуночники» Брехт был удостоен специального приза жюри Международного фестиваля комиксов в Ангулеме (2019).', title='Полуночники'), BookInfo(category='Графические романы / Комиксы', author='Акасака А.', image='/upload/resize_cache/iblock/7fd/160_230_1/uqfnd65emy78gvrzq6j7ctjmkjuyht8f.jpg', info='Автор Акасака А. Издательство Азбука Год издания 2024 Переплет Твёрдый Страниц 416 Формат 136x200 мм Язык Русский Переводчик Светлана Боголюбова ISBN 978-5-389-25401-5 Серия Графические романы. Манга Артикул 1195475', uid='9ac06e3bafd25975bbf6fb9083e18567', description='Завещание Ганъана Синомии уничтожено и Кагуя вновь возвращается в академию Сютиин. До отъезда президента в Америку остаются считанные дни которые девушка хочет провести рядом со своим возлюбленным. Вот только как назло все идет не по плану: сначала друзья Сироганэ не отходят от него ни на шаг а потом Кагуя и вовсе опаздывает в аэропорт и не успевает с ним попрощаться. А ведь им предстоит долгое время пробыть в разлуке… Смогут ли Кагуя и Миюки сохранить чувства другу к другу? И все же сердечные волнения одолевают не одну Синомию. Исигами и Иино наконец-то начали встречаться но девушка обеспокоена тем что в их отношениях нет никакого развития. Да еще и на все летние каникулы Ю улетает в Швейцарию. Чтобы стать ближе к Исигами Мико берет инициативу в свои руки и обращается за советом к подругам. Вот он долгожданный финал любовной битвы! Интересно кто же выйдет из нее победителем?', title='Госпожа Кагуя: В любви как на войне.  Любовная битва двух гениев.  Кн.  14'), BookInfo(category='Графические романы / Комиксы', author='Дэнсинг С.', image='/upload/resize_cache/iblock/929/160_230_1/y4yjii91w0f6vt6ql096apoeco3qruaf.jpg', info='Автор Дэнсинг С. Издательство КоЛибри Год издания 2024 Переплет Твёрдый Страниц 232 Формат 155x210 мм Язык Русский Переводчик Ксения Скворцова ISBN 978-5-389-25172-4 Серия Графический Non Fiction. Psychology Артикул 1194964', uid='ca68d65336425ee49bb1e563fb832e1f', description='Привычная рутина отбирает краски жизни а о «маленьких радостях» под конец рабочего дня даже думать не хочется. Все это приводит нас к моральному истощению тревоге и чувству беспомощности. В такие моменты каждому хочется получить немного тепла заботы и утешения. Нежные повседневные зарисовки Танцующей Улиточки и различные истории дарят успокоение и поддержку. Корейская художница в своей книге говорит о простых правилах которые сделают вас счастливыми: помнить о собственном счастье отстаивать свои границы любить и принимать себя жить сегодняшним днем думать о будущем позитивно. Книга помогает не перегружаться лишними заботами и тревогами и встретить новый день со счастливой улыбкой.', title='Люди,  которые легко становятся счастливыми.  To do list на пути к собственному счастью')])"
      ]
     },
     "execution_count": 91,
     "metadata": {},
     "output_type": "execute_result"
    }
   ],
   "source": [
    "get_books_batch(engine, limit, offset)"
   ]
  },
  {
   "cell_type": "code",
   "execution_count": null,
   "metadata": {},
   "outputs": [],
   "source": []
  }
 ],
 "metadata": {
  "kernelspec": {
   "display_name": "venv",
   "language": "python",
   "name": "python3"
  },
  "language_info": {
   "codemirror_mode": {
    "name": "ipython",
    "version": 3
   },
   "file_extension": ".py",
   "mimetype": "text/x-python",
   "name": "python",
   "nbconvert_exporter": "python",
   "pygments_lexer": "ipython3",
   "version": "3.11.0"
  }
 },
 "nbformat": 4,
 "nbformat_minor": 2
}
