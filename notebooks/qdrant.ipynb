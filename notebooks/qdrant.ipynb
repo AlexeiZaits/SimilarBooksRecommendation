{
 "cells": [
  {
   "cell_type": "code",
   "execution_count": 49,
   "metadata": {},
   "outputs": [
    {
     "data": {
      "text/plain": [
       "True"
      ]
     },
     "execution_count": 49,
     "metadata": {},
     "output_type": "execute_result"
    }
   ],
   "source": [
    "import os\n",
    "\n",
    "import pandas as pd\n",
    "from dotenv import load_dotenv\n",
    "from qdrant_client import QdrantClient\n",
    "from qdrant_client.models import Distance, PointStruct, VectorParams\n",
    "from sentence_transformers import SentenceTransformer\n",
    "\n",
    "load_dotenv()"
   ]
  },
  {
   "cell_type": "code",
   "execution_count": 109,
   "metadata": {},
   "outputs": [],
   "source": [
    "df_1 = pd.read_csv(os.path.join(os.getcwd(), \"data\", \"комиксы.csv\"), on_bad_lines=\"skip\").dropna()\n",
    "df_2 = pd.read_csv(os.path.join(os.getcwd(), \"data\", \"средневековье.csv\"), on_bad_lines=\"skip\").dropna()\n",
    "df_3 = pd.read_csv(os.path.join(os.getcwd(), \"data\", \"художественная.csv\"), on_bad_lines=\"skip\").dropna()\n",
    "\n",
    "df = pd.concat([df_1, df_2, df_3], axis=0)\n"
   ]
  },
  {
   "cell_type": "code",
   "execution_count": 110,
   "metadata": {},
   "outputs": [],
   "source": [
    "import uuid\n",
    "\n",
    "df[\"ID\"] = [uuid.uuid5(uuid.NAMESPACE_DNS, title).hex for title in df[\"Title\"]]\n"
   ]
  },
  {
   "cell_type": "code",
   "execution_count": 111,
   "metadata": {},
   "outputs": [
    {
     "data": {
      "text/html": [
       "<div>\n",
       "<style scoped>\n",
       "    .dataframe tbody tr th:only-of-type {\n",
       "        vertical-align: middle;\n",
       "    }\n",
       "\n",
       "    .dataframe tbody tr th {\n",
       "        vertical-align: top;\n",
       "    }\n",
       "\n",
       "    .dataframe thead th {\n",
       "        text-align: right;\n",
       "    }\n",
       "</style>\n",
       "<table border=\"1\" class=\"dataframe\">\n",
       "  <thead>\n",
       "    <tr style=\"text-align: right;\">\n",
       "      <th></th>\n",
       "      <th>Title</th>\n",
       "      <th>Author</th>\n",
       "      <th>Link</th>\n",
       "      <th>Image</th>\n",
       "      <th>Category</th>\n",
       "      <th>Description</th>\n",
       "      <th>Info</th>\n",
       "      <th>ID</th>\n",
       "    </tr>\n",
       "  </thead>\n",
       "  <tbody>\n",
       "    <tr>\n",
       "      <th>0</th>\n",
       "      <td>Истории книжных магазинов</td>\n",
       "      <td>Ивашкина М.</td>\n",
       "      <td>https://www.podpisnie.ru/books/istorii-knizhny...</td>\n",
       "      <td>/upload/resize_cache/iblock/cfe/160_230_1/8vg4...</td>\n",
       "      <td>Графические романы / Комиксы</td>\n",
       "      <td>Книжный магазин — место где книга и человек на...</td>\n",
       "      <td>Автор Ивашкина М. Издательство Миля Год издани...</td>\n",
       "      <td>e26498c9c4a75252a18a1c677b6d3ae9</td>\n",
       "    </tr>\n",
       "    <tr>\n",
       "      <th>1</th>\n",
       "      <td>Полуночники</td>\n",
       "      <td>Эвенс Б.</td>\n",
       "      <td>https://www.podpisnie.ru/books/polunochniki/</td>\n",
       "      <td>/upload/resize_cache/iblock/a5b/160_230_1/tj5v...</td>\n",
       "      <td>Графические романы / Комиксы</td>\n",
       "      <td>Одна ночь. Три незнакомца. Три совершенно разн...</td>\n",
       "      <td>Автор Эвенс Б. Издательство Бумкнига Год издан...</td>\n",
       "      <td>2d4a036599e959a0a9e76e32a2075200</td>\n",
       "    </tr>\n",
       "    <tr>\n",
       "      <th>2</th>\n",
       "      <td>Госпожа Кагуя: В любви как на войне.  Любовная...</td>\n",
       "      <td>Акасака А.</td>\n",
       "      <td>https://www.podpisnie.ru/books/gospozha-kaguya...</td>\n",
       "      <td>/upload/resize_cache/iblock/7fd/160_230_1/uqfn...</td>\n",
       "      <td>Графические романы / Комиксы</td>\n",
       "      <td>Завещание Ганъана Синомии уничтожено и Кагуя в...</td>\n",
       "      <td>Автор Акасака А. Издательство Азбука Год издан...</td>\n",
       "      <td>9ac06e3bafd25975bbf6fb9083e18567</td>\n",
       "    </tr>\n",
       "    <tr>\n",
       "      <th>3</th>\n",
       "      <td>Люди,  которые легко становятся счастливыми.  ...</td>\n",
       "      <td>Дэнсинг С.</td>\n",
       "      <td>https://www.podpisnie.ru/books/lyudi-kotorye-l...</td>\n",
       "      <td>/upload/resize_cache/iblock/929/160_230_1/y4yj...</td>\n",
       "      <td>Графические романы / Комиксы</td>\n",
       "      <td>Привычная рутина отбирает краски жизни а о «ма...</td>\n",
       "      <td>Автор Дэнсинг С. Издательство КоЛибри Год изда...</td>\n",
       "      <td>ca68d65336425ee49bb1e563fb832e1f</td>\n",
       "    </tr>\n",
       "    <tr>\n",
       "      <th>4</th>\n",
       "      <td>Моя геройская академия.  Кн.  19.  Те,  кто об...</td>\n",
       "      <td>Хорикоси К.</td>\n",
       "      <td>https://www.podpisnie.ru/books/moya-geroyskaya...</td>\n",
       "      <td>/upload/resize_cache/iblock/f6d/160_230_1/7hh3...</td>\n",
       "      <td>Графические романы / Комиксы</td>\n",
       "      <td>Решающее сражение за судьбу мира в самом разга...</td>\n",
       "      <td>Автор Хорикоси К. Издательство Азбука Год изда...</td>\n",
       "      <td>2cb378c590605ddb8c4cf85b8ee1518f</td>\n",
       "    </tr>\n",
       "  </tbody>\n",
       "</table>\n",
       "</div>"
      ],
      "text/plain": [
       "                                               Title       Author  \\\n",
       "0                          Истории книжных магазинов  Ивашкина М.   \n",
       "1                                        Полуночники     Эвенс Б.   \n",
       "2  Госпожа Кагуя: В любви как на войне.  Любовная...   Акасака А.   \n",
       "3  Люди,  которые легко становятся счастливыми.  ...   Дэнсинг С.   \n",
       "4  Моя геройская академия.  Кн.  19.  Те,  кто об...  Хорикоси К.   \n",
       "\n",
       "                                                Link  \\\n",
       "0  https://www.podpisnie.ru/books/istorii-knizhny...   \n",
       "1       https://www.podpisnie.ru/books/polunochniki/   \n",
       "2  https://www.podpisnie.ru/books/gospozha-kaguya...   \n",
       "3  https://www.podpisnie.ru/books/lyudi-kotorye-l...   \n",
       "4  https://www.podpisnie.ru/books/moya-geroyskaya...   \n",
       "\n",
       "                                               Image  \\\n",
       "0  /upload/resize_cache/iblock/cfe/160_230_1/8vg4...   \n",
       "1  /upload/resize_cache/iblock/a5b/160_230_1/tj5v...   \n",
       "2  /upload/resize_cache/iblock/7fd/160_230_1/uqfn...   \n",
       "3  /upload/resize_cache/iblock/929/160_230_1/y4yj...   \n",
       "4  /upload/resize_cache/iblock/f6d/160_230_1/7hh3...   \n",
       "\n",
       "                       Category  \\\n",
       "0  Графические романы / Комиксы   \n",
       "1  Графические романы / Комиксы   \n",
       "2  Графические романы / Комиксы   \n",
       "3  Графические романы / Комиксы   \n",
       "4  Графические романы / Комиксы   \n",
       "\n",
       "                                         Description  \\\n",
       "0  Книжный магазин — место где книга и человек на...   \n",
       "1  Одна ночь. Три незнакомца. Три совершенно разн...   \n",
       "2  Завещание Ганъана Синомии уничтожено и Кагуя в...   \n",
       "3  Привычная рутина отбирает краски жизни а о «ма...   \n",
       "4  Решающее сражение за судьбу мира в самом разга...   \n",
       "\n",
       "                                                Info  \\\n",
       "0  Автор Ивашкина М. Издательство Миля Год издани...   \n",
       "1  Автор Эвенс Б. Издательство Бумкнига Год издан...   \n",
       "2  Автор Акасака А. Издательство Азбука Год издан...   \n",
       "3  Автор Дэнсинг С. Издательство КоЛибри Год изда...   \n",
       "4  Автор Хорикоси К. Издательство Азбука Год изда...   \n",
       "\n",
       "                                 ID  \n",
       "0  e26498c9c4a75252a18a1c677b6d3ae9  \n",
       "1  2d4a036599e959a0a9e76e32a2075200  \n",
       "2  9ac06e3bafd25975bbf6fb9083e18567  \n",
       "3  ca68d65336425ee49bb1e563fb832e1f  \n",
       "4  2cb378c590605ddb8c4cf85b8ee1518f  "
      ]
     },
     "execution_count": 111,
     "metadata": {},
     "output_type": "execute_result"
    }
   ],
   "source": [
    "df.head()"
   ]
  },
  {
   "cell_type": "code",
   "execution_count": 45,
   "metadata": {},
   "outputs": [],
   "source": [
    "embedder = SentenceTransformer(os.getenv(\"QDRANT_EMBEDDER\"))\n",
    "qdrant = QdrantClient(url=os.getenv(\"QDRANT_URL\"), api_key=os.getenv(\"QDRANT_API_KEY\"))\n"
   ]
  },
  {
   "cell_type": "code",
   "execution_count": 48,
   "metadata": {},
   "outputs": [
    {
     "data": {
      "application/vnd.jupyter.widget-view+json": {
       "model_id": "3e7d839aec25454b947024eeda8135db",
       "version_major": 2,
       "version_minor": 0
      },
      "text/plain": [
       "Batches:   0%|          | 0/627 [00:00<?, ?it/s]"
      ]
     },
     "metadata": {},
     "output_type": "display_data"
    }
   ],
   "source": [
    "vectors = embedder.encode(df[\"Description\"].values, batch_size=32, normalize_embeddings=True, show_progress_bar=True)"
   ]
  },
  {
   "cell_type": "code",
   "execution_count": 113,
   "metadata": {},
   "outputs": [
    {
     "name": "stderr",
     "output_type": "stream",
     "text": [
      "C:\\Users\\S\\AppData\\Local\\Temp\\ipykernel_17908\\3353009504.py:1: DeprecationWarning: `recreate_collection` method is deprecated and will be removed in the future. Use `collection_exists` to check collection existence and `create_collection` instead.\n",
      "  qdrant.recreate_collection(\n"
     ]
    },
    {
     "data": {
      "text/plain": [
       "True"
      ]
     },
     "execution_count": 113,
     "metadata": {},
     "output_type": "execute_result"
    }
   ],
   "source": [
    "qdrant.recreate_collection(\n",
    "    collection_name=os.getenv(\"QDRANT_COLLECTION_NAME\"),\n",
    "    vectors_config=VectorParams(size=312, distance=Distance.COSINE),\n",
    ")\n"
   ]
  },
  {
   "cell_type": "code",
   "execution_count": 114,
   "metadata": {},
   "outputs": [
    {
     "name": "stderr",
     "output_type": "stream",
     "text": [
      "0it [00:00, ?it/s]"
     ]
    },
    {
     "name": "stderr",
     "output_type": "stream",
     "text": [
      "20055it [43:51,  7.62it/s]\n"
     ]
    }
   ],
   "source": [
    "from tqdm import tqdm\n",
    "\n",
    "for uid, category, author, title, image_link, vector in tqdm(zip(\n",
    "    df[\"ID\"], df[\"Category\"], df[\"Author\"], df[\"Title\"], df[\"Image\"], vectors\n",
    ")):\n",
    "    qdrant.upsert(\n",
    "        collection_name=os.getenv(\"QDRANT_COLLECTION_NAME\"),\n",
    "        points=[\n",
    "            PointStruct(\n",
    "                id=uid,\n",
    "                payload={\n",
    "                    \"category\": category,\n",
    "                    \"author\": author,\n",
    "                    \"title\": title,\n",
    "                    \"image_link\": image_link,\n",
    "                },\n",
    "                vector=vector,\n",
    "            )\n",
    "        ],\n",
    "    )\n"
   ]
  },
  {
   "cell_type": "code",
   "execution_count": 117,
   "metadata": {},
   "outputs": [],
   "source": [
    "query_vector = embedder.encode(\"sdfsdfsfdsf\")\n",
    "n_chunks = 2\n",
    "offset = 0"
   ]
  },
  {
   "cell_type": "code",
   "execution_count": 122,
   "metadata": {},
   "outputs": [],
   "source": [
    "message_content = qdrant.search(\n",
    "        collection_name=os.getenv(\"QDRANT_COLLECTION_NAME\"), query_vector=query_vector, limit=n_chunks, offset=offset\n",
    "    )"
   ]
  },
  {
   "cell_type": "code",
   "execution_count": 123,
   "metadata": {},
   "outputs": [
    {
     "data": {
      "text/plain": [
       "[ScoredPoint(id='199fb4a3-e956-5e2b-ab3d-200bc7e99e4d', version=1093, score=0.83818316, payload={'author': 'Маргопулос Р.', 'category': 'Графические романы / Комиксы', 'image_link': '/upload/resize_cache/iblock/c5b/160_230_1/qjrm705ftl3lwoyi6c41a6128hp2i6z7.jpg', 'title': 'MARVEL: Что если? .  .  Росомаха убил Халка'}, vector=None, shard_key=None, order_value=None),\n",
       " ScoredPoint(id='421833ad-e246-56dc-9a16-447a4d64a915', version=1605, score=0.8188624, payload={'author': 'Ли С.', 'category': 'Графические романы / Комиксы', 'image_link': '/upload/resize_cache/iblock/1e8/160_230_1/7x70g1v5p394xkbbm75dpk7wum6oemw7.jpg', 'title': 'Удивительное фэнтези #15.  Первое появление Человека-Паука'}, vector=None, shard_key=None, order_value=None)]"
      ]
     },
     "execution_count": 123,
     "metadata": {},
     "output_type": "execute_result"
    }
   ],
   "source": [
    "message_content"
   ]
  },
  {
   "cell_type": "code",
   "execution_count": null,
   "metadata": {},
   "outputs": [],
   "source": []
  }
 ],
 "metadata": {
  "kernelspec": {
   "display_name": "venv",
   "language": "python",
   "name": "python3"
  },
  "language_info": {
   "codemirror_mode": {
    "name": "ipython",
    "version": 3
   },
   "file_extension": ".py",
   "mimetype": "text/x-python",
   "name": "python",
   "nbconvert_exporter": "python",
   "pygments_lexer": "ipython3",
   "version": "3.11.0"
  }
 },
 "nbformat": 4,
 "nbformat_minor": 2
}
