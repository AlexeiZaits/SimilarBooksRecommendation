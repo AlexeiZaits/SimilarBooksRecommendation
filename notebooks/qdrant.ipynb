{
 "cells": [
  {
   "cell_type": "code",
   "execution_count": 1,
   "metadata": {},
   "outputs": [
    {
     "name": "stderr",
     "output_type": "stream",
     "text": [
      "c:\\Users\\S\\PycharmProjects\\SimilarBooksRecommendation\\venv\\Lib\\site-packages\\sentence_transformers\\cross_encoder\\CrossEncoder.py:11: TqdmExperimentalWarning: Using `tqdm.autonotebook.tqdm` in notebook mode. Use `tqdm.tqdm` instead to force console mode (e.g. in jupyter console)\n",
      "  from tqdm.autonotebook import tqdm, trange\n"
     ]
    },
    {
     "data": {
      "text/plain": [
       "True"
      ]
     },
     "execution_count": 1,
     "metadata": {},
     "output_type": "execute_result"
    }
   ],
   "source": [
    "import os\n",
    "import uuid\n",
    "\n",
    "import pandas as pd\n",
    "from dotenv import load_dotenv\n",
    "from qdrant_client import QdrantClient\n",
    "from qdrant_client.models import Distance, PointStruct, VectorParams\n",
    "from sentence_transformers import SentenceTransformer\n",
    "\n",
    "load_dotenv()"
   ]
  },
  {
   "cell_type": "code",
   "execution_count": 2,
   "metadata": {},
   "outputs": [],
   "source": [
    "df_1 = pd.read_csv(os.path.join(os.getcwd(), \"data\", \"комиксы.csv\"), on_bad_lines=\"skip\").dropna()\n",
    "df_2 = pd.read_csv(os.path.join(os.getcwd(), \"data\", \"средневековье.csv\"), on_bad_lines=\"skip\").dropna()\n",
    "df_3 = pd.read_csv(os.path.join(os.getcwd(), \"data\", \"художественная.csv\"), on_bad_lines=\"skip\").dropna()\n",
    "\n",
    "df = pd.concat([df_1, df_2, df_3], axis=0).drop_duplicates(subset=[\"Title\", \"Author\"]).drop_duplicates(subset=[\"Title\"])\n",
    "df = df[df[\"Description\"].apply(len) >= 100]\n",
    "\n",
    "df[\"ID\"] = [uuid.uuid5(uuid.NAMESPACE_DNS, title).hex for title in df[\"Title\"]]\n"
   ]
  },
  {
   "cell_type": "code",
   "execution_count": 3,
   "metadata": {},
   "outputs": [
    {
     "name": "stdout",
     "output_type": "stream",
     "text": [
      "(16149, 8)\n"
     ]
    },
    {
     "data": {
      "text/html": [
       "<div>\n",
       "<style scoped>\n",
       "    .dataframe tbody tr th:only-of-type {\n",
       "        vertical-align: middle;\n",
       "    }\n",
       "\n",
       "    .dataframe tbody tr th {\n",
       "        vertical-align: top;\n",
       "    }\n",
       "\n",
       "    .dataframe thead th {\n",
       "        text-align: right;\n",
       "    }\n",
       "</style>\n",
       "<table border=\"1\" class=\"dataframe\">\n",
       "  <thead>\n",
       "    <tr style=\"text-align: right;\">\n",
       "      <th></th>\n",
       "      <th>Title</th>\n",
       "      <th>Author</th>\n",
       "      <th>Link</th>\n",
       "      <th>Image</th>\n",
       "      <th>Category</th>\n",
       "      <th>Description</th>\n",
       "      <th>Info</th>\n",
       "      <th>ID</th>\n",
       "    </tr>\n",
       "  </thead>\n",
       "  <tbody>\n",
       "    <tr>\n",
       "      <th>0</th>\n",
       "      <td>Истории книжных магазинов</td>\n",
       "      <td>Ивашкина М.</td>\n",
       "      <td>https://www.podpisnie.ru/books/istorii-knizhny...</td>\n",
       "      <td>/upload/resize_cache/iblock/cfe/160_230_1/8vg4...</td>\n",
       "      <td>Графические романы / Комиксы</td>\n",
       "      <td>Книжный магазин — место где книга и человек на...</td>\n",
       "      <td>Автор Ивашкина М. Издательство Миля Год издани...</td>\n",
       "      <td>e26498c9c4a75252a18a1c677b6d3ae9</td>\n",
       "    </tr>\n",
       "    <tr>\n",
       "      <th>1</th>\n",
       "      <td>Полуночники</td>\n",
       "      <td>Эвенс Б.</td>\n",
       "      <td>https://www.podpisnie.ru/books/polunochniki/</td>\n",
       "      <td>/upload/resize_cache/iblock/a5b/160_230_1/tj5v...</td>\n",
       "      <td>Графические романы / Комиксы</td>\n",
       "      <td>Одна ночь. Три незнакомца. Три совершенно разн...</td>\n",
       "      <td>Автор Эвенс Б. Издательство Бумкнига Год издан...</td>\n",
       "      <td>2d4a036599e959a0a9e76e32a2075200</td>\n",
       "    </tr>\n",
       "    <tr>\n",
       "      <th>2</th>\n",
       "      <td>Госпожа Кагуя: В любви как на войне.  Любовная...</td>\n",
       "      <td>Акасака А.</td>\n",
       "      <td>https://www.podpisnie.ru/books/gospozha-kaguya...</td>\n",
       "      <td>/upload/resize_cache/iblock/7fd/160_230_1/uqfn...</td>\n",
       "      <td>Графические романы / Комиксы</td>\n",
       "      <td>Завещание Ганъана Синомии уничтожено и Кагуя в...</td>\n",
       "      <td>Автор Акасака А. Издательство Азбука Год издан...</td>\n",
       "      <td>9ac06e3bafd25975bbf6fb9083e18567</td>\n",
       "    </tr>\n",
       "    <tr>\n",
       "      <th>3</th>\n",
       "      <td>Люди,  которые легко становятся счастливыми.  ...</td>\n",
       "      <td>Дэнсинг С.</td>\n",
       "      <td>https://www.podpisnie.ru/books/lyudi-kotorye-l...</td>\n",
       "      <td>/upload/resize_cache/iblock/929/160_230_1/y4yj...</td>\n",
       "      <td>Графические романы / Комиксы</td>\n",
       "      <td>Привычная рутина отбирает краски жизни а о «ма...</td>\n",
       "      <td>Автор Дэнсинг С. Издательство КоЛибри Год изда...</td>\n",
       "      <td>ca68d65336425ee49bb1e563fb832e1f</td>\n",
       "    </tr>\n",
       "    <tr>\n",
       "      <th>4</th>\n",
       "      <td>Моя геройская академия.  Кн.  19.  Те,  кто об...</td>\n",
       "      <td>Хорикоси К.</td>\n",
       "      <td>https://www.podpisnie.ru/books/moya-geroyskaya...</td>\n",
       "      <td>/upload/resize_cache/iblock/f6d/160_230_1/7hh3...</td>\n",
       "      <td>Графические романы / Комиксы</td>\n",
       "      <td>Решающее сражение за судьбу мира в самом разга...</td>\n",
       "      <td>Автор Хорикоси К. Издательство Азбука Год изда...</td>\n",
       "      <td>2cb378c590605ddb8c4cf85b8ee1518f</td>\n",
       "    </tr>\n",
       "  </tbody>\n",
       "</table>\n",
       "</div>"
      ],
      "text/plain": [
       "                                               Title       Author  \\\n",
       "0                          Истории книжных магазинов  Ивашкина М.   \n",
       "1                                        Полуночники     Эвенс Б.   \n",
       "2  Госпожа Кагуя: В любви как на войне.  Любовная...   Акасака А.   \n",
       "3  Люди,  которые легко становятся счастливыми.  ...   Дэнсинг С.   \n",
       "4  Моя геройская академия.  Кн.  19.  Те,  кто об...  Хорикоси К.   \n",
       "\n",
       "                                                Link  \\\n",
       "0  https://www.podpisnie.ru/books/istorii-knizhny...   \n",
       "1       https://www.podpisnie.ru/books/polunochniki/   \n",
       "2  https://www.podpisnie.ru/books/gospozha-kaguya...   \n",
       "3  https://www.podpisnie.ru/books/lyudi-kotorye-l...   \n",
       "4  https://www.podpisnie.ru/books/moya-geroyskaya...   \n",
       "\n",
       "                                               Image  \\\n",
       "0  /upload/resize_cache/iblock/cfe/160_230_1/8vg4...   \n",
       "1  /upload/resize_cache/iblock/a5b/160_230_1/tj5v...   \n",
       "2  /upload/resize_cache/iblock/7fd/160_230_1/uqfn...   \n",
       "3  /upload/resize_cache/iblock/929/160_230_1/y4yj...   \n",
       "4  /upload/resize_cache/iblock/f6d/160_230_1/7hh3...   \n",
       "\n",
       "                       Category  \\\n",
       "0  Графические романы / Комиксы   \n",
       "1  Графические романы / Комиксы   \n",
       "2  Графические романы / Комиксы   \n",
       "3  Графические романы / Комиксы   \n",
       "4  Графические романы / Комиксы   \n",
       "\n",
       "                                         Description  \\\n",
       "0  Книжный магазин — место где книга и человек на...   \n",
       "1  Одна ночь. Три незнакомца. Три совершенно разн...   \n",
       "2  Завещание Ганъана Синомии уничтожено и Кагуя в...   \n",
       "3  Привычная рутина отбирает краски жизни а о «ма...   \n",
       "4  Решающее сражение за судьбу мира в самом разга...   \n",
       "\n",
       "                                                Info  \\\n",
       "0  Автор Ивашкина М. Издательство Миля Год издани...   \n",
       "1  Автор Эвенс Б. Издательство Бумкнига Год издан...   \n",
       "2  Автор Акасака А. Издательство Азбука Год издан...   \n",
       "3  Автор Дэнсинг С. Издательство КоЛибри Год изда...   \n",
       "4  Автор Хорикоси К. Издательство Азбука Год изда...   \n",
       "\n",
       "                                 ID  \n",
       "0  e26498c9c4a75252a18a1c677b6d3ae9  \n",
       "1  2d4a036599e959a0a9e76e32a2075200  \n",
       "2  9ac06e3bafd25975bbf6fb9083e18567  \n",
       "3  ca68d65336425ee49bb1e563fb832e1f  \n",
       "4  2cb378c590605ddb8c4cf85b8ee1518f  "
      ]
     },
     "metadata": {},
     "output_type": "display_data"
    }
   ],
   "source": [
    "print(df.shape)\n",
    "display(df.head())"
   ]
  },
  {
   "cell_type": "code",
   "execution_count": 4,
   "metadata": {},
   "outputs": [],
   "source": [
    "embedder = SentenceTransformer(os.getenv(\"QDRANT_EMBEDDER\"))\n",
    "qdrant = QdrantClient(url=os.getenv(\"QDRANT_URL\"), api_key=os.getenv(\"QDRANT_API_KEY\"))\n"
   ]
  },
  {
   "cell_type": "code",
   "execution_count": 5,
   "metadata": {},
   "outputs": [
    {
     "data": {
      "application/vnd.jupyter.widget-view+json": {
       "model_id": "a11eca7330f440339e3559ef5f200452",
       "version_major": 2,
       "version_minor": 0
      },
      "text/plain": [
       "Batches:   0%|          | 0/16149 [00:00<?, ?it/s]"
      ]
     },
     "metadata": {},
     "output_type": "display_data"
    }
   ],
   "source": [
    "vectors = embedder.encode(df[\"Description\"].values, batch_size=1, normalize_embeddings=True, show_progress_bar=True)"
   ]
  },
  {
   "cell_type": "code",
   "execution_count": 6,
   "metadata": {},
   "outputs": [
    {
     "name": "stderr",
     "output_type": "stream",
     "text": [
      "C:\\Users\\S\\AppData\\Local\\Temp\\ipykernel_36236\\3353009504.py:1: DeprecationWarning: `recreate_collection` method is deprecated and will be removed in the future. Use `collection_exists` to check collection existence and `create_collection` instead.\n",
      "  qdrant.recreate_collection(\n"
     ]
    },
    {
     "data": {
      "text/plain": [
       "True"
      ]
     },
     "execution_count": 6,
     "metadata": {},
     "output_type": "execute_result"
    }
   ],
   "source": [
    "qdrant.recreate_collection(\n",
    "    collection_name=os.getenv(\"QDRANT_COLLECTION_NAME\"),\n",
    "    vectors_config=VectorParams(size=312, distance=Distance.COSINE),\n",
    ")\n"
   ]
  },
  {
   "cell_type": "code",
   "execution_count": 7,
   "metadata": {},
   "outputs": [
    {
     "name": "stderr",
     "output_type": "stream",
     "text": [
      "16149it [00:39, 405.12it/s]\n"
     ]
    }
   ],
   "source": [
    "from tqdm import tqdm\n",
    "\n",
    "# Параметры для пакетной обработки\n",
    "batch_size = 300  # Размер пакета, можно настроить по мере необходимости\n",
    "points = []\n",
    "\n",
    "# Обрабатываем данные по пакетам\n",
    "for uid, category, author, title, image_link, vector in tqdm(\n",
    "    zip(df[\"ID\"], df[\"Category\"], df[\"Author\"], df[\"Title\"], df[\"Image\"], vectors)\n",
    "):\n",
    "    points.append(\n",
    "        PointStruct(\n",
    "            id=uid,\n",
    "            payload={\n",
    "                \"category\": category,\n",
    "                \"author\": author,\n",
    "                \"title\": title,\n",
    "                \"image_link\": image_link,\n",
    "            },\n",
    "            vector=vector,\n",
    "        )\n",
    "    )\n",
    "\n",
    "    # Если пакет набран, отправляем его в Qdrant\n",
    "    if len(points) >= batch_size:\n",
    "        qdrant.upsert(collection_name=os.getenv(\"QDRANT_COLLECTION_NAME\"), points=points)\n",
    "        points = []  # Очищаем список для следующего пакета\n",
    "\n",
    "# Отправляем оставшиеся точки, если они есть\n",
    "if points:\n",
    "    qdrant.upsert(collection_name=os.getenv(\"QDRANT_COLLECTION_NAME\"), points=points)\n"
   ]
  },
  {
   "cell_type": "code",
   "execution_count": 10,
   "metadata": {},
   "outputs": [],
   "source": [
    "query_vector = embedder.encode(\"Ведьмак Предназначение\")\n",
    "n_chunks = 5\n",
    "offset = 0\n"
   ]
  },
  {
   "cell_type": "code",
   "execution_count": 11,
   "metadata": {},
   "outputs": [
    {
     "data": {
      "text/plain": [
       "[ScoredPoint(id='7654c1a4-09e6-5ff8-817d-b43929fa6d87', version=39, score=0.8305099, payload={'author': 'Сапковский А.', 'category': 'Художественная литература', 'image_link': '/upload/resize_cache/iblock/fb9/160_230_1/6tjf0vcl6qf92zgz17ku1t1ewba720o8.jpg', 'title': 'Ведьмак.  Меч Предназначения'}, vector=None, shard_key=None, order_value=None),\n",
       " ScoredPoint(id='92444711-200a-5c29-aa4a-892effbf7a05', version=41, score=0.82693565, payload={'author': 'Сапковский А.', 'category': 'Художественная литература', 'image_link': '/upload/resize_cache/iblock/c53/160_230_1/tigq1chxqc0e3yev85p31n39xaly6h3f.jpg', 'title': 'Ведьмак.  Последнее желание'}, vector=None, shard_key=None, order_value=None),\n",
       " ScoredPoint(id='de468708-c02d-5054-b28c-d3284c5bd3c5', version=40, score=0.8225369, payload={'author': 'Сапковский А.', 'category': 'Художественная литература', 'image_link': '/upload/resize_cache/iblock/c71/160_230_1/e24vw9bjg1l753zw24w2du49pzh9e86q.jpg', 'title': 'Ведьмак.  Час Презрения (2изд)'}, vector=None, shard_key=None, order_value=None),\n",
       " ScoredPoint(id='4ae65a79-2ded-5284-be01-c07b8c8e6109', version=39, score=0.8225369, payload={'author': 'Сапковский А.', 'category': 'Художественная литература', 'image_link': '/upload/resize_cache/iblock/0ce/160_230_1/ttk5sp0cu3r3ra1et0dex7pointr2u50.jpg', 'title': 'Ведьмак.  Владычица Озера'}, vector=None, shard_key=None, order_value=None),\n",
       " ScoredPoint(id='027129b8-7ce5-5ef7-bdbb-465c979801c5', version=39, score=0.8104475, payload={'author': 'Сапковский А.', 'category': 'Художественная литература', 'image_link': '/upload/resize_cache/iblock/783/160_230_1/3vwo59peyv0lo097h2kn82smyc5wpgzp.jpg', 'title': 'Ведьмак: Меч Предназначения'}, vector=None, shard_key=None, order_value=None)]"
      ]
     },
     "execution_count": 11,
     "metadata": {},
     "output_type": "execute_result"
    }
   ],
   "source": [
    "message_content = qdrant.search(\n",
    "    collection_name=os.getenv(\"QDRANT_COLLECTION_NAME\"), query_vector=query_vector, limit=n_chunks, offset=offset\n",
    ")\n",
    "message_content\n"
   ]
  },
  {
   "cell_type": "markdown",
   "metadata": {},
   "source": [
    "# Redis"
   ]
  },
  {
   "cell_type": "code",
   "execution_count": 18,
   "metadata": {},
   "outputs": [
    {
     "name": "stdout",
     "output_type": "stream",
     "text": [
      "Подключение к Redis успешно!\n"
     ]
    }
   ],
   "source": [
    "import redis\n",
    "\n",
    "# Подключение к Redis\n",
    "redis_client = redis.StrictRedis(\n",
    "    host=os.getenv(\"REDIS_HOST\"), port=os.getenv(\"REDIS_PORT\"), password=os.getenv(\"RESID_PASSWORD\")\n",
    ")\n",
    "\n",
    "try:\n",
    "    # Проверка подключения к Redis\n",
    "    pong = redis_client.ping()\n",
    "    if pong:\n",
    "        print(\"Подключение к Redis успешно!\")\n",
    "    else:\n",
    "        print(\"Не удалось подключиться к Redis.\")\n",
    "except redis.ConnectionError as e:\n",
    "    print(f\"Ошибка подключения к Redis: {e}\")\n"
   ]
  },
  {
   "cell_type": "markdown",
   "metadata": {},
   "source": [
    "## Быстрая загрузка данных в redis"
   ]
  },
  {
   "cell_type": "code",
   "execution_count": 20,
   "metadata": {},
   "outputs": [
    {
     "name": "stderr",
     "output_type": "stream",
     "text": [
      "100%|██████████| 17/17 [00:12<00:00,  1.38it/s]\n"
     ]
    }
   ],
   "source": [
    "# from tqdm import tqdm\n",
    "\n",
    "# # Преобразование данных в список кортежей для удобства использования\n",
    "# data = list(zip(df[\"Title\"], df[\"Description\"], df[\"Category\"], df[\"Author\"]))\n",
    "# # Определение размера батча\n",
    "# batch_size = 1000\n",
    "\n",
    "# # Использование пайплайна для записи данных и метаданных\n",
    "# for i in tqdm(range(0, len(data), batch_size)):\n",
    "#     with redis_client.pipeline() as pipe:\n",
    "#         for title, description, category, author in data[i:i + batch_size]:\n",
    "#             # Установка данных\n",
    "#             pipe.set(title, description)\n",
    "            \n",
    "#             # Установка метаданных\n",
    "#             metadata_key = f\"{title}:metadata\"\n",
    "#             pipe.hset(metadata_key, \"category\", category)\n",
    "#             pipe.hset(metadata_key, \"author\", author)\n",
    "        \n",
    "#         # Выполнение всех команд в пайплайне\n",
    "#         pipe.execute()"
   ]
  },
  {
   "cell_type": "code",
   "execution_count": 55,
   "metadata": {},
   "outputs": [
    {
     "name": "stdout",
     "output_type": "stream",
     "text": [
      "Number of keys in the database: 32298\n"
     ]
    }
   ],
   "source": [
    "num_keys = redis_client.dbsize()\n",
    "\n",
    "print(f\"Number of keys in the database: {num_keys}\")"
   ]
  },
  {
   "cell_type": "markdown",
   "metadata": {},
   "source": [
    "# Гибридный поиск"
   ]
  },
  {
   "cell_type": "code",
   "execution_count": 28,
   "metadata": {},
   "outputs": [],
   "source": [
    "from typing import Dict, Optional\n",
    "\n",
    "def fetch_data_and_metadata(redis_connection: redis.StrictRedis, name: str) -> Dict[str, Optional[str]]:\n",
    "    \"\"\"\n",
    "    Получает данные и метаданные из Redis по ключу `name`.\n",
    "    \n",
    "    :param redis_connection: Подключение к Redis.\n",
    "    :param name: Ключ для извлечения данных и метаданных.\n",
    "    :return: Словарь с данными и метаданными.\n",
    "    \"\"\"\n",
    "    # Формирование ключа для метаданных\n",
    "    metadata_key = f\"{name}:metadata\"\n",
    "    \n",
    "    # Использование пайплайна для извлечения данных и метаданных\n",
    "    with redis_connection.pipeline() as pipe:\n",
    "        # Запрос данных\n",
    "        pipe.get(name)\n",
    "        # Запрос метаданных\n",
    "        pipe.hgetall(metadata_key)\n",
    "        \n",
    "        # Выполнение всех команд в пайплайне\n",
    "        responses = pipe.execute()\n",
    "    \n",
    "    # Извлечение данных и метаданных из ответов\n",
    "    description = responses[0]\n",
    "    metadata = responses[1]\n",
    "    \n",
    "    # Декодирование данных, если они существуют\n",
    "    if description is not None:\n",
    "        description = description.decode('utf-8')  # Декодирование байтов в строку\n",
    "    \n",
    "    # Декодирование метаданных, если они существуют\n",
    "    if metadata is not None:\n",
    "        metadata = {k.decode('utf-8'): v.decode('utf-8') for k, v in metadata.items()}\n",
    "    else:\n",
    "        metadata = {}\n",
    "    \n",
    "    # Формирование итогового результата\n",
    "    result = {\n",
    "        'description': description,\n",
    "        'metadata': metadata\n",
    "    }\n",
    "    \n",
    "    return result"
   ]
  },
  {
   "cell_type": "code",
   "execution_count": 73,
   "metadata": {},
   "outputs": [],
   "source": [
    "from qdrant_client.http import models\n",
    "\n",
    "def hybrid_search(query, category_filter=None):\n",
    "    # Создание векторного запроса\n",
    "    query_vector = embedder.encode(query)\n",
    "    \n",
    "\n",
    "    # Построение условий фильтрации\n",
    "    filter_conditions = []\n",
    "    if category_filter:\n",
    "        filter_conditions.append(models.FieldCondition(\n",
    "            key='category',\n",
    "            match=models.MatchValue(value=category_filter)\n",
    "        ))\n",
    "\n",
    "    # Выполнение поиска\n",
    "    results = qdrant.search(\n",
    "        collection_name=os.getenv(\"QDRANT_COLLECTION_NAME\"),\n",
    "        query_vector=query_vector,\n",
    "        query_filter=models.Filter(\n",
    "            must=filter_conditions\n",
    "        ) if filter_conditions else None,\n",
    "        limit=10\n",
    "    )\n",
    "\n",
    "    return results\n"
   ]
  },
  {
   "cell_type": "code",
   "execution_count": 74,
   "metadata": {},
   "outputs": [],
   "source": [
    "query = \"Полуночники\"\n",
    "\n",
    "# Получение данных и метаданных\n",
    "data_and_metadata = fetch_data_and_metadata(redis_client, name)\n",
    "description = data_and_metadata['description']\n",
    "category = data_and_metadata['metadata'][\"category\"]\n",
    "author = data_and_metadata['metadata'][\"author\"]"
   ]
  },
  {
   "cell_type": "code",
   "execution_count": 80,
   "metadata": {},
   "outputs": [
    {
     "name": "stdout",
     "output_type": "stream",
     "text": [
      "Title: Полуночники, Score: 1.0000001, Category: Графические романы / Комиксы\n",
      "Title: Стигматы, Score: 0.90010583, Category: Графические романы / Комиксы\n",
      "Title: Лучшая фантастика, Score: 0.8936212, Category: Художественная литература\n",
      "Title: Создания ночи, Score: 0.89227223, Category: Графические романы / Комиксы\n",
      "Title: Мунк, Score: 0.89163905, Category: Графические романы / Комиксы\n",
      "Title: Джонатан Стрендж и мистер Норрелл, Score: 0.89122635, Category: Художественная литература\n",
      "Title: Ангелы и насекомые, Score: 0.8911444, Category: Художественная литература\n",
      "Title: Маркиз Кит де ла Бален, Score: 0.8909486, Category: Графические романы / Комиксы\n",
      "Title: Огненный шар, Score: 0.88734776, Category: Графические романы / Комиксы\n",
      "Title: Мистические рассказы(По Э.  А.  ), Score: 0.8871362, Category: Художественная литература\n"
     ]
    }
   ],
   "source": [
    "# Пример запроса\n",
    "search_results = hybrid_search(\n",
    "    query=description,\n",
    "    # category_filter=category,\n",
    "    # author_filter=author,\n",
    "    # title_filter=query\n",
    ")\n",
    "\n",
    "for result in search_results:\n",
    "    print(f\"Title: {result.payload['title']}, Score: {result.score}, Category: {result.payload['category']}\")"
   ]
  },
  {
   "cell_type": "code",
   "execution_count": null,
   "metadata": {},
   "outputs": [],
   "source": []
  },
  {
   "cell_type": "markdown",
   "metadata": {},
   "source": []
  }
 ],
 "metadata": {
  "kernelspec": {
   "display_name": "venv",
   "language": "python",
   "name": "python3"
  },
  "language_info": {
   "codemirror_mode": {
    "name": "ipython",
    "version": 3
   },
   "file_extension": ".py",
   "mimetype": "text/x-python",
   "name": "python",
   "nbconvert_exporter": "python",
   "pygments_lexer": "ipython3",
   "version": "3.11.0"
  }
 },
 "nbformat": 4,
 "nbformat_minor": 2
}
