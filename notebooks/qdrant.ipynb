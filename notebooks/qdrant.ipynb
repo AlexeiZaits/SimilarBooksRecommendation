{
 "cells": [
  {
   "cell_type": "code",
   "execution_count": 9,
   "metadata": {},
   "outputs": [
    {
     "name": "stderr",
     "output_type": "stream",
     "text": [
      "c:\\Users\\S\\PycharmProjects\\SimilarBooksRecommendation\\venv\\Lib\\site-packages\\sentence_transformers\\cross_encoder\\CrossEncoder.py:11: TqdmExperimentalWarning: Using `tqdm.autonotebook.tqdm` in notebook mode. Use `tqdm.tqdm` instead to force console mode (e.g. in jupyter console)\n",
      "  from tqdm.autonotebook import tqdm, trange\n"
     ]
    },
    {
     "data": {
      "text/plain": [
       "True"
      ]
     },
     "execution_count": 9,
     "metadata": {},
     "output_type": "execute_result"
    }
   ],
   "source": [
    "import os\n",
    "import uuid\n",
    "\n",
    "import pandas as pd\n",
    "from dotenv import load_dotenv\n",
    "from qdrant_client import QdrantClient\n",
    "from qdrant_client.models import Distance, PointStruct, VectorParams\n",
    "from sentence_transformers import SentenceTransformer\n",
    "\n",
    "load_dotenv()"
   ]
  },
  {
   "cell_type": "code",
   "execution_count": 10,
   "metadata": {},
   "outputs": [],
   "source": [
    "%load_ext autoreload\n",
    "%autoreload 2\n"
   ]
  },
  {
   "cell_type": "code",
   "execution_count": 11,
   "metadata": {},
   "outputs": [],
   "source": [
    "df_1 = pd.read_csv(os.path.join(os.getcwd(), \"data\", \"комиксы.csv\"), on_bad_lines=\"skip\").dropna()\n",
    "df_2 = pd.read_csv(os.path.join(os.getcwd(), \"data\", \"средневековье.csv\"), on_bad_lines=\"skip\").dropna()\n",
    "df_3 = pd.read_csv(os.path.join(os.getcwd(), \"data\", \"художественная.csv\"), on_bad_lines=\"skip\").dropna()\n",
    "\n",
    "df = pd.concat([df_1, df_2, df_3], axis=0).drop_duplicates(subset=[\"Title\", \"Author\"]).drop_duplicates(subset=[\"Title\"])\n",
    "df = df[df[\"Description\"].apply(len) >= 100]\n",
    "\n",
    "df[\"ID\"] = [uuid.uuid5(uuid.NAMESPACE_DNS, title).hex for title in df[\"Title\"]]"
   ]
  },
  {
   "cell_type": "code",
   "execution_count": 12,
   "metadata": {},
   "outputs": [
    {
     "name": "stdout",
     "output_type": "stream",
     "text": [
      "(16149, 8)\n"
     ]
    },
    {
     "data": {
      "text/html": [
       "<div>\n",
       "<style scoped>\n",
       "    .dataframe tbody tr th:only-of-type {\n",
       "        vertical-align: middle;\n",
       "    }\n",
       "\n",
       "    .dataframe tbody tr th {\n",
       "        vertical-align: top;\n",
       "    }\n",
       "\n",
       "    .dataframe thead th {\n",
       "        text-align: right;\n",
       "    }\n",
       "</style>\n",
       "<table border=\"1\" class=\"dataframe\">\n",
       "  <thead>\n",
       "    <tr style=\"text-align: right;\">\n",
       "      <th></th>\n",
       "      <th>Title</th>\n",
       "      <th>Author</th>\n",
       "      <th>Link</th>\n",
       "      <th>Image</th>\n",
       "      <th>Category</th>\n",
       "      <th>Description</th>\n",
       "      <th>Info</th>\n",
       "      <th>ID</th>\n",
       "    </tr>\n",
       "  </thead>\n",
       "  <tbody>\n",
       "    <tr>\n",
       "      <th>0</th>\n",
       "      <td>Истории книжных магазинов</td>\n",
       "      <td>Ивашкина М.</td>\n",
       "      <td>https://www.podpisnie.ru/books/istorii-knizhny...</td>\n",
       "      <td>/upload/resize_cache/iblock/cfe/160_230_1/8vg4...</td>\n",
       "      <td>Графические романы / Комиксы</td>\n",
       "      <td>Книжный магазин — место где книга и человек на...</td>\n",
       "      <td>Автор Ивашкина М. Издательство Миля Год издани...</td>\n",
       "      <td>e26498c9c4a75252a18a1c677b6d3ae9</td>\n",
       "    </tr>\n",
       "    <tr>\n",
       "      <th>1</th>\n",
       "      <td>Полуночники</td>\n",
       "      <td>Эвенс Б.</td>\n",
       "      <td>https://www.podpisnie.ru/books/polunochniki/</td>\n",
       "      <td>/upload/resize_cache/iblock/a5b/160_230_1/tj5v...</td>\n",
       "      <td>Графические романы / Комиксы</td>\n",
       "      <td>Одна ночь. Три незнакомца. Три совершенно разн...</td>\n",
       "      <td>Автор Эвенс Б. Издательство Бумкнига Год издан...</td>\n",
       "      <td>2d4a036599e959a0a9e76e32a2075200</td>\n",
       "    </tr>\n",
       "    <tr>\n",
       "      <th>2</th>\n",
       "      <td>Госпожа Кагуя: В любви как на войне.  Любовная...</td>\n",
       "      <td>Акасака А.</td>\n",
       "      <td>https://www.podpisnie.ru/books/gospozha-kaguya...</td>\n",
       "      <td>/upload/resize_cache/iblock/7fd/160_230_1/uqfn...</td>\n",
       "      <td>Графические романы / Комиксы</td>\n",
       "      <td>Завещание Ганъана Синомии уничтожено и Кагуя в...</td>\n",
       "      <td>Автор Акасака А. Издательство Азбука Год издан...</td>\n",
       "      <td>9ac06e3bafd25975bbf6fb9083e18567</td>\n",
       "    </tr>\n",
       "    <tr>\n",
       "      <th>3</th>\n",
       "      <td>Люди,  которые легко становятся счастливыми.  ...</td>\n",
       "      <td>Дэнсинг С.</td>\n",
       "      <td>https://www.podpisnie.ru/books/lyudi-kotorye-l...</td>\n",
       "      <td>/upload/resize_cache/iblock/929/160_230_1/y4yj...</td>\n",
       "      <td>Графические романы / Комиксы</td>\n",
       "      <td>Привычная рутина отбирает краски жизни а о «ма...</td>\n",
       "      <td>Автор Дэнсинг С. Издательство КоЛибри Год изда...</td>\n",
       "      <td>ca68d65336425ee49bb1e563fb832e1f</td>\n",
       "    </tr>\n",
       "    <tr>\n",
       "      <th>4</th>\n",
       "      <td>Моя геройская академия.  Кн.  19.  Те,  кто об...</td>\n",
       "      <td>Хорикоси К.</td>\n",
       "      <td>https://www.podpisnie.ru/books/moya-geroyskaya...</td>\n",
       "      <td>/upload/resize_cache/iblock/f6d/160_230_1/7hh3...</td>\n",
       "      <td>Графические романы / Комиксы</td>\n",
       "      <td>Решающее сражение за судьбу мира в самом разга...</td>\n",
       "      <td>Автор Хорикоси К. Издательство Азбука Год изда...</td>\n",
       "      <td>2cb378c590605ddb8c4cf85b8ee1518f</td>\n",
       "    </tr>\n",
       "  </tbody>\n",
       "</table>\n",
       "</div>"
      ],
      "text/plain": [
       "                                               Title       Author  \\\n",
       "0                          Истории книжных магазинов  Ивашкина М.   \n",
       "1                                        Полуночники     Эвенс Б.   \n",
       "2  Госпожа Кагуя: В любви как на войне.  Любовная...   Акасака А.   \n",
       "3  Люди,  которые легко становятся счастливыми.  ...   Дэнсинг С.   \n",
       "4  Моя геройская академия.  Кн.  19.  Те,  кто об...  Хорикоси К.   \n",
       "\n",
       "                                                Link  \\\n",
       "0  https://www.podpisnie.ru/books/istorii-knizhny...   \n",
       "1       https://www.podpisnie.ru/books/polunochniki/   \n",
       "2  https://www.podpisnie.ru/books/gospozha-kaguya...   \n",
       "3  https://www.podpisnie.ru/books/lyudi-kotorye-l...   \n",
       "4  https://www.podpisnie.ru/books/moya-geroyskaya...   \n",
       "\n",
       "                                               Image  \\\n",
       "0  /upload/resize_cache/iblock/cfe/160_230_1/8vg4...   \n",
       "1  /upload/resize_cache/iblock/a5b/160_230_1/tj5v...   \n",
       "2  /upload/resize_cache/iblock/7fd/160_230_1/uqfn...   \n",
       "3  /upload/resize_cache/iblock/929/160_230_1/y4yj...   \n",
       "4  /upload/resize_cache/iblock/f6d/160_230_1/7hh3...   \n",
       "\n",
       "                       Category  \\\n",
       "0  Графические романы / Комиксы   \n",
       "1  Графические романы / Комиксы   \n",
       "2  Графические романы / Комиксы   \n",
       "3  Графические романы / Комиксы   \n",
       "4  Графические романы / Комиксы   \n",
       "\n",
       "                                         Description  \\\n",
       "0  Книжный магазин — место где книга и человек на...   \n",
       "1  Одна ночь. Три незнакомца. Три совершенно разн...   \n",
       "2  Завещание Ганъана Синомии уничтожено и Кагуя в...   \n",
       "3  Привычная рутина отбирает краски жизни а о «ма...   \n",
       "4  Решающее сражение за судьбу мира в самом разга...   \n",
       "\n",
       "                                                Info  \\\n",
       "0  Автор Ивашкина М. Издательство Миля Год издани...   \n",
       "1  Автор Эвенс Б. Издательство Бумкнига Год издан...   \n",
       "2  Автор Акасака А. Издательство Азбука Год издан...   \n",
       "3  Автор Дэнсинг С. Издательство КоЛибри Год изда...   \n",
       "4  Автор Хорикоси К. Издательство Азбука Год изда...   \n",
       "\n",
       "                                 ID  \n",
       "0  e26498c9c4a75252a18a1c677b6d3ae9  \n",
       "1  2d4a036599e959a0a9e76e32a2075200  \n",
       "2  9ac06e3bafd25975bbf6fb9083e18567  \n",
       "3  ca68d65336425ee49bb1e563fb832e1f  \n",
       "4  2cb378c590605ddb8c4cf85b8ee1518f  "
      ]
     },
     "metadata": {},
     "output_type": "display_data"
    }
   ],
   "source": [
    "print(df.shape)\n",
    "display(df.head())"
   ]
  },
  {
   "cell_type": "code",
   "execution_count": 13,
   "metadata": {},
   "outputs": [],
   "source": [
    "embedder = SentenceTransformer(os.getenv(\"QDRANT_EMBEDDER\"))\n",
    "qdrant = QdrantClient(url=os.getenv(\"QDRANT_URL\"), api_key=os.getenv(\"QDRANT_API_KEY\"))"
   ]
  },
  {
   "cell_type": "code",
   "execution_count": 5,
   "metadata": {},
   "outputs": [
    {
     "data": {
      "application/vnd.jupyter.widget-view+json": {
       "model_id": "a11eca7330f440339e3559ef5f200452",
       "version_major": 2,
       "version_minor": 0
      },
      "text/plain": [
       "Batches:   0%|          | 0/16149 [00:00<?, ?it/s]"
      ]
     },
     "metadata": {},
     "output_type": "display_data"
    }
   ],
   "source": [
    "# vectors = embedder.encode(df[\"Description\"].values, batch_size=1, normalize_embeddings=True, show_progress_bar=True)"
   ]
  },
  {
   "cell_type": "code",
   "execution_count": 6,
   "metadata": {},
   "outputs": [
    {
     "name": "stderr",
     "output_type": "stream",
     "text": [
      "C:\\Users\\S\\AppData\\Local\\Temp\\ipykernel_36236\\3353009504.py:1: DeprecationWarning: `recreate_collection` method is deprecated and will be removed in the future. Use `collection_exists` to check collection existence and `create_collection` instead.\n",
      "  qdrant.recreate_collection(\n"
     ]
    },
    {
     "data": {
      "text/plain": [
       "True"
      ]
     },
     "execution_count": 6,
     "metadata": {},
     "output_type": "execute_result"
    }
   ],
   "source": [
    "# qdrant.recreate_collection(\n",
    "#     collection_name=os.getenv(\"QDRANT_COLLECTION_NAME\"),\n",
    "#     vectors_config=VectorParams(size=312, distance=Distance.COSINE),\n",
    "# )"
   ]
  },
  {
   "cell_type": "code",
   "execution_count": 7,
   "metadata": {},
   "outputs": [
    {
     "name": "stderr",
     "output_type": "stream",
     "text": [
      "16149it [00:39, 405.12it/s]\n"
     ]
    }
   ],
   "source": [
    "# from tqdm import tqdm\n",
    "\n",
    "# # Параметры для пакетной обработки\n",
    "# batch_size = 300  # Размер пакета, можно настроить по мере необходимости\n",
    "# points = []\n",
    "\n",
    "# # Обрабатываем данные по пакетам\n",
    "# for uid, category, author, title, image_link, vector in tqdm(\n",
    "#     zip(df[\"ID\"], df[\"Category\"], df[\"Author\"], df[\"Title\"], df[\"Image\"], vectors)\n",
    "# ):\n",
    "#     points.append(\n",
    "#         PointStruct(\n",
    "#             id=uid,\n",
    "#             payload={\n",
    "#                 \"category\": category,\n",
    "#                 \"author\": author,\n",
    "#                 \"title\": title,\n",
    "#                 \"image_link\": image_link,\n",
    "#             },\n",
    "#             vector=vector,\n",
    "#         )\n",
    "#     )\n",
    "\n",
    "#     # Если пакет набран, отправляем его в Qdrant\n",
    "#     if len(points) >= batch_size:\n",
    "#         qdrant.upsert(collection_name=os.getenv(\"QDRANT_COLLECTION_NAME\"), points=points)\n",
    "#         points = []  # Очищаем список для следующего пакета\n",
    "\n",
    "# # Отправляем оставшиеся точки, если они есть\n",
    "# if points:\n",
    "#     qdrant.upsert(collection_name=os.getenv(\"QDRANT_COLLECTION_NAME\"), points=points)"
   ]
  },
  {
   "cell_type": "code",
   "execution_count": 10,
   "metadata": {},
   "outputs": [],
   "source": [
    "query_vector = embedder.encode(\"Ведьмак Предназначение\")\n",
    "n_chunks = 5\n",
    "offset = 0"
   ]
  },
  {
   "cell_type": "code",
   "execution_count": 11,
   "metadata": {},
   "outputs": [
    {
     "data": {
      "text/plain": [
       "[ScoredPoint(id='7654c1a4-09e6-5ff8-817d-b43929fa6d87', version=39, score=0.8305099, payload={'author': 'Сапковский А.', 'category': 'Художественная литература', 'image_link': '/upload/resize_cache/iblock/fb9/160_230_1/6tjf0vcl6qf92zgz17ku1t1ewba720o8.jpg', 'title': 'Ведьмак.  Меч Предназначения'}, vector=None, shard_key=None, order_value=None),\n",
       " ScoredPoint(id='92444711-200a-5c29-aa4a-892effbf7a05', version=41, score=0.82693565, payload={'author': 'Сапковский А.', 'category': 'Художественная литература', 'image_link': '/upload/resize_cache/iblock/c53/160_230_1/tigq1chxqc0e3yev85p31n39xaly6h3f.jpg', 'title': 'Ведьмак.  Последнее желание'}, vector=None, shard_key=None, order_value=None),\n",
       " ScoredPoint(id='de468708-c02d-5054-b28c-d3284c5bd3c5', version=40, score=0.8225369, payload={'author': 'Сапковский А.', 'category': 'Художественная литература', 'image_link': '/upload/resize_cache/iblock/c71/160_230_1/e24vw9bjg1l753zw24w2du49pzh9e86q.jpg', 'title': 'Ведьмак.  Час Презрения (2изд)'}, vector=None, shard_key=None, order_value=None),\n",
       " ScoredPoint(id='4ae65a79-2ded-5284-be01-c07b8c8e6109', version=39, score=0.8225369, payload={'author': 'Сапковский А.', 'category': 'Художественная литература', 'image_link': '/upload/resize_cache/iblock/0ce/160_230_1/ttk5sp0cu3r3ra1et0dex7pointr2u50.jpg', 'title': 'Ведьмак.  Владычица Озера'}, vector=None, shard_key=None, order_value=None),\n",
       " ScoredPoint(id='027129b8-7ce5-5ef7-bdbb-465c979801c5', version=39, score=0.8104475, payload={'author': 'Сапковский А.', 'category': 'Художественная литература', 'image_link': '/upload/resize_cache/iblock/783/160_230_1/3vwo59peyv0lo097h2kn82smyc5wpgzp.jpg', 'title': 'Ведьмак: Меч Предназначения'}, vector=None, shard_key=None, order_value=None)]"
      ]
     },
     "execution_count": 11,
     "metadata": {},
     "output_type": "execute_result"
    }
   ],
   "source": [
    "content = qdrant.search(\n",
    "    collection_name=os.getenv(\"QDRANT_COLLECTION_NAME\"), query_vector=query_vector, limit=n_chunks, offset=offset\n",
    ")\n",
    "content"
   ]
  },
  {
   "cell_type": "markdown",
   "metadata": {},
   "source": [
    "# Redis"
   ]
  },
  {
   "cell_type": "code",
   "execution_count": 9,
   "metadata": {},
   "outputs": [
    {
     "name": "stdout",
     "output_type": "stream",
     "text": [
      "Подключение к Redis успешно!\n"
     ]
    }
   ],
   "source": [
    "import os\n",
    "\n",
    "import redis\n",
    "\n",
    "# Подключение к Redis\n",
    "redis_client = redis.StrictRedis(\n",
    "    host=os.getenv(\"REDIS_HOST\"), port=os.getenv(\"REDIS_PORT\"), password=os.getenv(\"RESID_PASSWORD\")\n",
    ")\n",
    "\n",
    "try:\n",
    "    # Проверка подключения к Redis\n",
    "    pong = redis_client.ping()\n",
    "    if pong:\n",
    "        print(\"Подключение к Redis успешно!\")\n",
    "    else:\n",
    "        print(\"Не удалось подключиться к Redis.\")\n",
    "except redis.ConnectionError as e:\n",
    "    print(f\"Ошибка подключения к Redis: {e}\")"
   ]
  },
  {
   "cell_type": "markdown",
   "metadata": {},
   "source": [
    "## Быстрая загрузка данных в redis"
   ]
  },
  {
   "cell_type": "code",
   "execution_count": 20,
   "metadata": {},
   "outputs": [
    {
     "name": "stderr",
     "output_type": "stream",
     "text": [
      "100%|██████████| 17/17 [00:12<00:00,  1.38it/s]\n"
     ]
    }
   ],
   "source": [
    "# from tqdm import tqdm\n",
    "\n",
    "# # Преобразование данных в список кортежей для удобства использования\n",
    "# data = list(zip(df[\"Title\"], df[\"Description\"], df[\"Category\"], df[\"Author\"]))\n",
    "# # Определение размера батча\n",
    "# batch_size = 1000\n",
    "\n",
    "# # Использование пайплайна для записи данных и метаданных\n",
    "# for i in tqdm(range(0, len(data), batch_size)):\n",
    "#     with redis_client.pipeline() as pipe:\n",
    "#         for title, description, category, author in data[i:i + batch_size]:\n",
    "#             # Установка данных\n",
    "#             pipe.set(title, description)\n",
    "\n",
    "#             # Установка метаданных\n",
    "#             metadata_key = f\"{title}:metadata\"\n",
    "#             pipe.hset(metadata_key, \"category\", category)\n",
    "#             pipe.hset(metadata_key, \"author\", author)\n",
    "\n",
    "#         # Выполнение всех команд в пайплайне\n",
    "#         pipe.execute()"
   ]
  },
  {
   "cell_type": "code",
   "execution_count": 10,
   "metadata": {},
   "outputs": [
    {
     "name": "stdout",
     "output_type": "stream",
     "text": [
      "Number of keys in the database: 32298\n"
     ]
    }
   ],
   "source": [
    "num_keys = redis_client.dbsize()\n",
    "\n",
    "print(f\"Number of keys in the database: {num_keys}\")"
   ]
  },
  {
   "cell_type": "markdown",
   "metadata": {},
   "source": [
    "# Гибридный поиск"
   ]
  },
  {
   "cell_type": "code",
   "execution_count": 27,
   "metadata": {},
   "outputs": [],
   "source": [
    "from qdrant_client.http import models\n",
    "\n",
    "\n",
    "def filter_search(query, collection_name, limit = 6, offset = 0, title_filter=None):\n",
    "    # Создание векторного запроса\n",
    "    query_vector = embedder.encode(query, batch_size=1, normalize_embeddings=True,)\n",
    "\n",
    "    # Построение условий фильтрации\n",
    "    filter_conditions = []\n",
    "    if title_filter:\n",
    "        filter_conditions.append(models.FieldCondition(key=\"title\", match=models.MatchValue(value=title_filter)))\n",
    "\n",
    "    # Выполнение поиска\n",
    "    results = qdrant.search(\n",
    "        collection_name=collection_name,\n",
    "        query_vector=query_vector,\n",
    "        query_filter=models.Filter(must=filter_conditions) if filter_conditions else None,\n",
    "        limit=limit,\n",
    "        offset=offset\n",
    "    )\n",
    "\n",
    "    return results"
   ]
  },
  {
   "cell_type": "code",
   "execution_count": null,
   "metadata": {},
   "outputs": [],
   "source": [
    "# Пример запроса\n",
    "search_results = filter_search(\n",
    "    query=description,\n",
    "    # category_filter=category,\n",
    "    # author_filter=author,\n",
    "    # title_filter=query\n",
    ")\n",
    "\n",
    "for result in search_results:\n",
    "    print(f\"Title: {result.payload['title']}, Score: {result.score}, Category: {result.payload['category']}\")\n"
   ]
  },
  {
   "cell_type": "markdown",
   "metadata": {},
   "source": [
    "# Поиск описания книги по ее названию"
   ]
  },
  {
   "cell_type": "code",
   "execution_count": 11,
   "metadata": {},
   "outputs": [],
   "source": [
    "query = \"Полуночники\""
   ]
  },
  {
   "cell_type": "code",
   "execution_count": 21,
   "metadata": {},
   "outputs": [
    {
     "name": "stderr",
     "output_type": "stream",
     "text": [
      "C:\\Users\\S\\AppData\\Local\\Temp\\ipykernel_29664\\1343041219.py:1: DeprecationWarning: `recreate_collection` method is deprecated and will be removed in the future. Use `collection_exists` to check collection existence and `create_collection` instead.\n",
      "  qdrant.recreate_collection(\n"
     ]
    },
    {
     "data": {
      "text/plain": [
       "True"
      ]
     },
     "execution_count": 21,
     "metadata": {},
     "output_type": "execute_result"
    }
   ],
   "source": [
    "# qdrant.recreate_collection(\n",
    "#     collection_name=\"BookTitles\",\n",
    "#     vectors_config=VectorParams(size=312, distance=Distance.COSINE),\n",
    "# )\n"
   ]
  },
  {
   "cell_type": "code",
   "execution_count": 22,
   "metadata": {},
   "outputs": [
    {
     "data": {
      "application/vnd.jupyter.widget-view+json": {
       "model_id": "6a83891fb96146ee97e6294887207b9e",
       "version_major": 2,
       "version_minor": 0
      },
      "text/plain": [
       "Batches:   0%|          | 0/16149 [00:00<?, ?it/s]"
      ]
     },
     "metadata": {},
     "output_type": "display_data"
    }
   ],
   "source": [
    "# vectors = embedder.encode(df[\"Title\"].values, batch_size=1, normalize_embeddings=True, show_progress_bar=True)"
   ]
  },
  {
   "cell_type": "code",
   "execution_count": 23,
   "metadata": {},
   "outputs": [
    {
     "name": "stderr",
     "output_type": "stream",
     "text": [
      "16149it [01:16, 211.81it/s]\n"
     ]
    }
   ],
   "source": [
    "# from tqdm import tqdm\n",
    "\n",
    "# # Параметры для пакетной обработки\n",
    "# batch_size = 300  # Размер пакета, можно настроить по мере необходимости\n",
    "# points = []\n",
    "\n",
    "# # Обрабатываем данные по пакетам\n",
    "# for uid, title, vector in tqdm(zip(df[\"ID\"], df[\"Title\"], vectors)):\n",
    "#     points.append(\n",
    "#         PointStruct(\n",
    "#             id=uid,\n",
    "#             payload={\n",
    "#                 \"title\": title,\n",
    "#             },\n",
    "#             vector=vector,\n",
    "#         )\n",
    "#     )\n",
    "\n",
    "#     # Если пакет набран, отправляем его в Qdrant\n",
    "#     if len(points) >= batch_size:\n",
    "#         qdrant.upsert(collection_name=\"BookTitles\", points=points)\n",
    "#         points = []  # Очищаем список для следующего пакета\n",
    "\n",
    "# # Отправляем оставшиеся точки, если они есть\n",
    "# if points:\n",
    "#     qdrant.upsert(collection_name=\"BookTitles\", points=points)\n"
   ]
  },
  {
   "cell_type": "code",
   "execution_count": 14,
   "metadata": {},
   "outputs": [
    {
     "data": {
      "text/plain": [
       "[ScoredPoint(id='7654c1a4-09e6-5ff8-817d-b43929fa6d87', version=39, score=0.9570774, payload={'title': 'Ведьмак.  Меч Предназначения'}, vector=None, shard_key=None, order_value=None),\n",
       " ScoredPoint(id='e22499a5-3308-5e07-a417-a253e46b5988', version=24, score=0.95617324, payload={'title': 'Ведьмак'}, vector=None, shard_key=None, order_value=None),\n",
       " ScoredPoint(id='027129b8-7ce5-5ef7-bdbb-465c979801c5', version=39, score=0.95227534, payload={'title': 'Ведьмак: Меч Предназначения'}, vector=None, shard_key=None, order_value=None),\n",
       " ScoredPoint(id='252031e8-29d3-5b10-8abc-6126c01104ef', version=8, score=0.91669166, payload={'title': 'Ведьма'}, vector=None, shard_key=None, order_value=None),\n",
       " ScoredPoint(id='273b8a09-f860-5e76-8b68-f744c7fe055d', version=15, score=0.9033262, payload={'title': 'Ведьмочервь'}, vector=None, shard_key=None, order_value=None),\n",
       " ScoredPoint(id='635ac645-e96e-50f3-9f70-83bde55fc6df', version=46, score=0.89926875, payload={'title': 'Ведьмак.  Послед.  желание.  Меч предназначения'}, vector=None, shard_key=None, order_value=None),\n",
       " ScoredPoint(id='7cf50021-2a19-540b-94c4-6390767cccb9', version=48, score=0.8895221, payload={'title': 'Войцек'}, vector=None, shard_key=None, order_value=None),\n",
       " ScoredPoint(id='c5fde43f-032e-5ead-b10e-3d2b798c0055', version=39, score=0.8784852, payload={'title': 'Ведьмак: Час Презрения'}, vector=None, shard_key=None, order_value=None),\n",
       " ScoredPoint(id='be74dc56-80a1-523c-aa69-01ad1a84f8c0', version=40, score=0.87577236, payload={'title': 'Ведьмак.  Меньшее зло'}, vector=None, shard_key=None, order_value=None),\n",
       " ScoredPoint(id='c07e1cdd-f8a4-5e30-b38e-bcef0c45bc06', version=40, score=0.8734767, payload={'title': 'Ведьмак: Крещение огнем'}, vector=None, shard_key=None, order_value=None),\n",
       " ScoredPoint(id='463106f2-6a63-5404-99c2-ac953b7e2c9d', version=50, score=0.87301904, payload={'title': 'Богема'}, vector=None, shard_key=None, order_value=None),\n",
       " ScoredPoint(id='c253a9cf-c247-5af3-8031-363f6336a6ff', version=41, score=0.872344, payload={'title': 'Ведьмак (2 изд)'}, vector=None, shard_key=None, order_value=None),\n",
       " ScoredPoint(id='6d90600a-7b7d-596c-8171-8a29098dd54b', version=30, score=0.8685905, payload={'title': 'Дедейме'}, vector=None, shard_key=None, order_value=None),\n",
       " ScoredPoint(id='5a082332-b4e5-50b5-8c60-65809334b5e0', version=40, score=0.86850685, payload={'title': 'Ведьмак: Башня Ласточки'}, vector=None, shard_key=None, order_value=None),\n",
       " ScoredPoint(id='4ae65a79-2ded-5284-be01-c07b8c8e6109', version=39, score=0.8682613, payload={'title': 'Ведьмак.  Владычица Озера'}, vector=None, shard_key=None, order_value=None),\n",
       " ScoredPoint(id='92444711-200a-5c29-aa4a-892effbf7a05', version=41, score=0.8674394, payload={'title': 'Ведьмак.  Последнее желание'}, vector=None, shard_key=None, order_value=None),\n",
       " ScoredPoint(id='3d5af51c-e8f9-5bf7-8641-a1966d717145', version=32, score=0.86713463, payload={'title': 'Волчатник'}, vector=None, shard_key=None, order_value=None),\n",
       " ScoredPoint(id='56e58f6b-0a4c-5cc2-9bef-d4949f553920', version=9, score=0.86637217, payload={'title': 'Башмак'}, vector=None, shard_key=None, order_value=None),\n",
       " ScoredPoint(id='109f1e6b-2102-506a-8d13-fce665139fb9', version=8, score=0.86467844, payload={'title': 'Отслойка'}, vector=None, shard_key=None, order_value=None),\n",
       " ScoredPoint(id='2a7210ed-9955-52d5-8c20-0c69c161bdc4', version=47, score=0.8638621, payload={'title': 'Поводок'}, vector=None, shard_key=None, order_value=None)]"
      ]
     },
     "execution_count": 14,
     "metadata": {},
     "output_type": "execute_result"
    }
   ],
   "source": [
    "n_chunks = 20\n",
    "offset = 0\n",
    "query = \"Ведьмак Предназначение\"\n",
    "query_vector = embedder.encode(query)\n",
    "\n",
    "content = qdrant.search(collection_name=\"BookTitles\", query_vector=query_vector, limit=n_chunks, offset=offset)\n",
    "content\n"
   ]
  },
  {
   "cell_type": "code",
   "execution_count": 33,
   "metadata": {},
   "outputs": [],
   "source": [
    "import pandas as pd\n",
    "from sklearn.feature_extraction.text import TfidfVectorizer\n",
    "from sklearn.metrics.pairwise import cosine_similarity\n",
    "\n",
    "def ranking_titles(content: PointStruct, query):\n",
    "    \n",
    "\n",
    "    # Преобразуем данные в DataFrame\n",
    "    df = pd.DataFrame(content, columns=[\"values\"])\n",
    "\n",
    "    # Объединяем заголовки и запрос для векторизации\n",
    "    titles = df['values'].tolist()\n",
    "    titles.append(query)\n",
    "\n",
    "    # Векторизация текстов с помощью TF-IDF\n",
    "    tfidf_matrix = TfidfVectorizer().fit_transform(titles)\n",
    "\n",
    "    # Добавляем косинусное сходство в DataFrame и сортируем по нему\n",
    "    df['similarity'] = cosine_similarity(tfidf_matrix[-1], tfidf_matrix[:-1]).flatten()\n",
    "    df = df.sort_values(by='similarity', ascending=False)\n",
    "    df = df[df['similarity'] != 0.0].iloc[:10]\n",
    "    # Выводим отсортированный DataFrame\n",
    "    return df['values'].to_list()\n"
   ]
  },
  {
   "cell_type": "code",
   "execution_count": 34,
   "metadata": {},
   "outputs": [],
   "source": [
    "data = []\n",
    "for msg in content:\n",
    "    data.append(msg.payload[\"title\"])"
   ]
  },
  {
   "cell_type": "code",
   "execution_count": 35,
   "metadata": {},
   "outputs": [
    {
     "data": {
      "text/plain": [
       "['Ведьмак.  Меч Предназначения',\n",
       " 'Ведьмак',\n",
       " 'Ведьмак: Меч Предназначения',\n",
       " 'Ведьма',\n",
       " 'Ведьмочервь',\n",
       " 'Ведьмак.  Послед.  желание.  Меч предназначения',\n",
       " 'Войцек',\n",
       " 'Ведьмак: Час Презрения',\n",
       " 'Ведьмак.  Меньшее зло',\n",
       " 'Ведьмак: Крещение огнем',\n",
       " 'Богема',\n",
       " 'Ведьмак (2 изд)',\n",
       " 'Дедейме',\n",
       " 'Ведьмак: Башня Ласточки',\n",
       " 'Ведьмак.  Владычица Озера',\n",
       " 'Ведьмак.  Последнее желание',\n",
       " 'Волчатник',\n",
       " 'Башмак',\n",
       " 'Отслойка',\n",
       " 'Поводок']"
      ]
     },
     "execution_count": 35,
     "metadata": {},
     "output_type": "execute_result"
    }
   ],
   "source": [
    "data"
   ]
  },
  {
   "cell_type": "code",
   "execution_count": 36,
   "metadata": {},
   "outputs": [
    {
     "data": {
      "text/plain": [
       "['Ведьмак',\n",
       " 'Ведьмак (2 изд)',\n",
       " 'Ведьмак.  Меч Предназначения',\n",
       " 'Ведьмак: Меч Предназначения',\n",
       " 'Ведьмак.  Последнее желание',\n",
       " 'Ведьмак.  Владычица Озера',\n",
       " 'Ведьмак: Час Презрения',\n",
       " 'Ведьмак.  Меньшее зло',\n",
       " 'Ведьмак: Крещение огнем',\n",
       " 'Ведьмак: Башня Ласточки']"
      ]
     },
     "execution_count": 36,
     "metadata": {},
     "output_type": "execute_result"
    }
   ],
   "source": [
    "ranking_titles(data, query)"
   ]
  },
  {
   "cell_type": "markdown",
   "metadata": {},
   "source": [
    "# Exceptions:"
   ]
  },
  {
   "cell_type": "code",
   "execution_count": 2,
   "metadata": {},
   "outputs": [],
   "source": [
    "from backend.src.exceptions.custom_exceptions import RedisDataIsNotFound"
   ]
  },
  {
   "cell_type": "code",
   "execution_count": 7,
   "metadata": {},
   "outputs": [
    {
     "ename": "RedisDataIsNotFound",
     "evalue": "По запросу в Redis ничего не найденоAboba",
     "output_type": "error",
     "traceback": [
      "\u001b[1;31m---------------------------------------------------------------------------\u001b[0m",
      "\u001b[1;31mRedisDataIsNotFound\u001b[0m                       Traceback (most recent call last)",
      "Cell \u001b[1;32mIn[7], line 1\u001b[0m\n\u001b[1;32m----> 1\u001b[0m \u001b[38;5;28;01mraise\u001b[39;00m RedisDataIsNotFound(RedisDataIsNotFound\u001b[38;5;241m.\u001b[39mdefault_message \u001b[38;5;241m+\u001b[39m \u001b[38;5;124m\"\u001b[39m\u001b[38;5;124mAboba\u001b[39m\u001b[38;5;124m\"\u001b[39m)\n",
      "\u001b[1;31mRedisDataIsNotFound\u001b[0m: По запросу в Redis ничего не найденоAboba"
     ]
    }
   ],
   "source": [
    "raise RedisDataIsNotFound(RedisDataIsNotFound.default_message + \"Aboba\")"
   ]
  },
  {
   "cell_type": "code",
   "execution_count": 6,
   "metadata": {},
   "outputs": [],
   "source": [
    "import pandas as pd\n",
    "df = pd.DataFrame()"
   ]
  },
  {
   "cell_type": "code",
   "execution_count": 7,
   "metadata": {},
   "outputs": [
    {
     "data": {
      "text/plain": [
       "True"
      ]
     },
     "execution_count": 7,
     "metadata": {},
     "output_type": "execute_result"
    }
   ],
   "source": [
    "df.empty"
   ]
  },
  {
   "cell_type": "code",
   "execution_count": null,
   "metadata": {},
   "outputs": [],
   "source": []
  }
 ],
 "metadata": {
  "kernelspec": {
   "display_name": "venv",
   "language": "python",
   "name": "python3"
  },
  "language_info": {
   "codemirror_mode": {
    "name": "ipython",
    "version": 3
   },
   "file_extension": ".py",
   "mimetype": "text/x-python",
   "name": "python",
   "nbconvert_exporter": "python",
   "pygments_lexer": "ipython3",
   "version": "3.11.0"
  }
 },
 "nbformat": 4,
 "nbformat_minor": 2
}
